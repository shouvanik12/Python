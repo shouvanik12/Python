{
 "cells": [
  {
   "cell_type": "markdown",
   "id": "30aae6fc-6924-4802-93f7-c26f3b8c339c",
   "metadata": {},
   "source": [
    "# Task 2P: Daily close BTC-to-USD data, from 2023-01-01 up to 2023-12-31"
   ]
  },
  {
   "cell_type": "markdown",
   "id": "5d1aabfd-cd55-4520-b897-0487f705c565",
   "metadata": {},
   "source": [
    "## Shouvanik Sarkar, Student ID: 225174439, email id: s225174439@deakin.edu.au"
   ]
  },
  {
   "cell_type": "markdown",
   "id": "5364951c-3ae8-4be6-bb57-4e6607ce5806",
   "metadata": {},
   "source": [
    "### Daily Price Changes for Q4 2023\n",
    "This task focuses on analyzing the daily price changes for Q4 2023 using a range of statistical techniques and visualizations. We aim to examine the price fluctuations over the last quarter of the year 2023 by calculating key metrics such as the daily price increases or decreases, identifying outliers, and visualizing the data through a box-and-whisker plot. The analysis involves determining the arithmetic mean of the daily price changes and marking it on the plot, as well as counting the number of outliers based on the interquartile range (IQR) methodology."
   ]
  },
  {
   "cell_type": "code",
   "execution_count": 130,
   "id": "59f3f590-e908-4aaa-9413-be7a8ad4c76f",
   "metadata": {},
   "outputs": [],
   "source": [
    "pip install yfinance"
   ]
  },
  {
   "cell_type": "code",
   "execution_count": 7,
   "id": "2641a399-e3cf-4228-a6ca-daefc3ecbf3c",
   "metadata": {},
   "outputs": [
    {
     "name": "stderr",
     "output_type": "stream",
     "text": [
      "[*********************100%***********************]  1 of 1 completed"
     ]
    },
    {
     "name": "stdout",
     "output_type": "stream",
     "text": [
      "Data downloaded and saved as BTC_USD_2023.csv\n"
     ]
    },
    {
     "name": "stderr",
     "output_type": "stream",
     "text": [
      "\n"
     ]
    }
   ],
   "source": [
    "import yfinance as yf\n",
    "\n",
    "# Download BTC-USD data\n",
    "data = yf.download(\"BTC-USD\", start=\"2023-01-01\", end=\"2024-01-01\")\n",
    "\n",
    "# Save to CSV\n",
    "data.to_csv(\"BTC_USD_2023.csv\")\n",
    "\n",
    "print(\"Data downloaded and saved as BTC_USD_2023.csv\")"
   ]
  },
  {
   "cell_type": "markdown",
   "id": "e1fab083-c106-4efc-af1a-0664e594b4a8",
   "metadata": {},
   "source": [
    "\n",
    "Lets install yfinance library to download the data of year 2023 and save it in local with file name as mentioned\n",
    "\n"
   ]
  },
  {
   "cell_type": "code",
   "execution_count": null,
   "id": "e663c549-571a-4318-82a5-639f48e29d66",
   "metadata": {},
   "outputs": [],
   "source": [
    "import numpy as np"
   ]
  },
  {
   "cell_type": "code",
   "execution_count": 40,
   "id": "0b83a31e-e254-4e4f-8e52-fe0229a431f1",
   "metadata": {},
   "outputs": [],
   "source": [
    "rates = np.loadtxt(\"BTC_USD_2023.csv\", delimiter=',', dtype=str, skiprows=1)"
   ]
  },
  {
   "cell_type": "markdown",
   "id": "f949e786-90a6-4f9b-9056-5d0a015b7e13",
   "metadata": {},
   "source": [
    "Reloading the data to array rates after few formating from the data downloaded. "
   ]
  },
  {
   "cell_type": "code",
   "execution_count": 42,
   "id": "02e6dbae-15ce-46f1-9967-6e41c738a793",
   "metadata": {},
   "outputs": [
    {
     "data": {
      "text/plain": [
       "array([['01-01-2023', '16625.08008', '16630.43945', '16521.23438',\n",
       "        '16547.91406', '9244361700'],\n",
       "       ['02-01-2023', '16688.4707', '16759.34375', '16572.22852',\n",
       "        '16625.50977', '12097775227'],\n",
       "       ['03-01-2023', '16679.85742', '16760.44727', '16622.37109',\n",
       "        '16688.84766', '13903079207'],\n",
       "       ...,\n",
       "       ['29-12-2023', '42099.40234', '43124.32422', '41424.0625',\n",
       "        '42614.64453', '26000021055'],\n",
       "       ['30-12-2023', '42156.90234', '42584.125', '41556.22656',\n",
       "        '42091.75391', '16013925945'],\n",
       "       ['31-12-2023', '42265.1875', '42860.9375', '41998.25391',\n",
       "        '42152.09766', '16397498810']], dtype='<U11')"
      ]
     },
     "execution_count": 42,
     "metadata": {},
     "output_type": "execute_result"
    }
   ],
   "source": [
    "rates"
   ]
  },
  {
   "cell_type": "code",
   "execution_count": 132,
   "id": "b7e6f0b1-99fd-4167-84bc-a6297c995ad7",
   "metadata": {},
   "outputs": [
    {
     "data": {
      "text/plain": [
       "array(['16625.08008', '16688.4707', '16679.85742', '16863.23828',\n",
       "       '16836.73633', '16951.96875', '16955.07813', '17091.14453',\n",
       "       '17196.55469', '17446.29297', '17934.89648', '18869.58789',\n",
       "       '19909.57422', '20976.29883', '20880.79883', '21169.63281',\n",
       "       '21161.51953', '20688.78125', '21086.79297', '22676.55273',\n",
       "       '22777.625', '22720.41602', '22934.43164', '22636.46875',\n",
       "       '23117.85938', '23032.77734', '23078.72852', '23031.08984',\n",
       "       '23774.56641', '22840.13867', '23139.2832', '23723.76953',\n",
       "       '23471.87109', '23449.32227', '23331.84766', '22955.66602',\n",
       "       '22760.10938', '23264.29102', '22939.39844', '21819.03906',\n",
       "       '21651.18359', '21870.875', '21788.20313', '21808.10156',\n",
       "       '22220.80469', '24307.8418', '23623.47461', '24565.60156',\n",
       "       '24641.27734', '24327.64258', '24829.14844', '24436.35352',\n",
       "       '24188.84375', '23947.49219', '23198.12695', '23175.375',\n",
       "       '23561.21289', '23522.87109', '23147.35352', '23646.55078',\n",
       "       '23475.4668', '22362.67969', '22353.34961', '22435.51367',\n",
       "       '22429.75781', '22219.76953', '21718.08008', '20363.02148',\n",
       "       '20187.24414', '20632.41016', '22163.94922', '24197.5332',\n",
       "       '24746.07422', '24375.96094', '25052.78906', '27423.92969',\n",
       "       '26965.87891', '28038.67578', '27767.23633', '28175.81641',\n",
       "       '27307.4375', '28333.97266', '27493.28516', '27494.70703',\n",
       "       '27994.33008', '27139.88867', '27268.13086', '28348.44141',\n",
       "       '28033.5625', '28478.48438', '28411.03516', '28199.30859',\n",
       "       '27790.2207', '28168.08984', '28177.98438', '28044.14063',\n",
       "       '27925.85938', '27947.79492', '28333.05078', '29652.98047',\n",
       "       '30235.05859', '30139.05273', '30399.06641', '30485.69922',\n",
       "       '30318.49609', '30315.35547', '29445.04492', '30397.55273',\n",
       "       '28822.67969', '28245.98828', '27276.91016', '27817.5',\n",
       "       '27591.38477', '27525.33984', '28307.59766', '28422.70117',\n",
       "       '29473.78711', '29340.26172', '29248.48828', '29268.80664',\n",
       "       '28091.56836', '28680.53711', '29006.30859', '28847.71094',\n",
       "       '29534.38477', '28904.62305', '28454.97852', '27694.27344',\n",
       "       '27658.77539', '27621.75586', '27000.78906', '26804.99023',\n",
       "       '26784.07813', '26930.63867', '27192.69336', '27036.65039',\n",
       "       '27398.80273', '26832.20898', '26890.12891', '27129.58594',\n",
       "       '26753.82617', '26851.27734', '27225.72656', '26334.81836',\n",
       "       '26476.20703', '26719.29102', '26868.35352', '28085.64648',\n",
       "       '27745.88477', '27702.34961', '27219.6582', '26819.97266',\n",
       "       '27249.58984', '27075.12891', '27119.06641', '25760.09766',\n",
       "       '27238.7832', '26345.99805', '26508.2168', '26480.375',\n",
       "       '25851.24023', '25940.16797', '25902.5', '25918.72852',\n",
       "       '25124.67578', '25576.39453', '26327.46289', '26510.67578',\n",
       "       '26336.21289', '26851.0293', '28327.48828', '30027.29688',\n",
       "       '29912.28125', '30695.46875', '30548.69531', '30480.26172',\n",
       "       '30271.13086', '30688.16406', '30086.24609', '30445.35156',\n",
       "       '30477.25195', '30590.07813', '30620.76953', '31156.43945',\n",
       "       '30777.58203', '30514.16602', '29909.33789', '30342.26563',\n",
       "       '30292.54102', '30171.23438', '30414.4707', '30620.95117',\n",
       "       '30391.64648', '31476.04883', '30334.06836', '30295.80664',\n",
       "       '30249.13281', '30145.88867', '29856.5625', '29913.92383',\n",
       "       '29792.01563', '29908.74414', '29771.80273', '30084.53906',\n",
       "       '29176.91602', '29227.39063', '29354.97266', '29210.68945',\n",
       "       '29319.24609', '29356.91797', '29275.30859', '29230.11133',\n",
       "       '29675.73242', '29151.95898', '29178.67969', '29074.0918',\n",
       "       '29042.12695', '29041.85547', '29180.57813', '29765.49219',\n",
       "       '29561.49414', '29429.5918', '29397.71484', '29415.96484',\n",
       "       '29282.91406', '29408.44336', '29170.34766', '28701.7793',\n",
       "       '26664.55078', '26049.55664', '26096.20508', '26189.58398',\n",
       "       '26124.14063', '26031.65625', '26431.64063', '26162.37305',\n",
       "       '26047.66797', '26008.46289', '26089.69336', '26106.15039',\n",
       "       '27727.39258', '27297.26563', '25931.47266', '25800.72461',\n",
       "       '25868.79883', '25969.56641', '25812.41602', '25779.98242',\n",
       "       '25753.23633', '26240.19531', '25905.6543', '25895.67773',\n",
       "       '25832.22656', '25162.6543', '25833.34375', '26228.32422',\n",
       "       '26539.67383', '26608.69336', '26568.28125', '26534.1875',\n",
       "       '26754.28125', '27211.11719', '27132.00781', '26567.63281',\n",
       "       '26579.56836', '26579.39063', '26256.82617', '26298.48047',\n",
       "       '26217.25', '26352.7168', '27021.54688', '26911.7207',\n",
       "       '26967.91602', '27983.75', '27530.78516', '27429.97852',\n",
       "       '27799.39453', '27415.91211', '27946.59766', '27968.83984',\n",
       "       '27935.08984', '27583.67773', '27391.01953', '26873.32031',\n",
       "       '26756.79883', '26862.375', '26861.70703', '27159.65234',\n",
       "       '28519.4668', '28415.74805', '28328.3418', '28719.80664',\n",
       "       '29682.94922', '29918.41211', '29993.89648', '33086.23438',\n",
       "       '33901.52734', '34502.82031', '34156.64844', '33909.80078',\n",
       "       '34089.57422', '34538.48047', '34502.36328', '34667.78125',\n",
       "       '35437.25391', '34938.24219', '34732.32422', '35082.19531',\n",
       "       '35049.35547', '35037.37109', '35443.5625', '35655.27734',\n",
       "       '36693.125', '37313.96875', '37138.05078', '37054.51953',\n",
       "       '36502.35547', '35537.64063', '37880.58203', '36154.76953',\n",
       "       '36596.68359', '36585.70313', '37386.54688', '37476.95703',\n",
       "       '35813.8125', '37432.33984', '37289.62109', '37720.28125',\n",
       "       '37796.79297', '37479.12109', '37254.16797', '37831.08594',\n",
       "       '37858.49219', '37712.74609', '38688.75', '39476.33203',\n",
       "       '39978.39063', '41980.09766', '44080.64844', '43746.44531',\n",
       "       '43292.66406', '44166.60156', '43725.98438', '43779.69922',\n",
       "       '41243.83203', '41450.22266', '42890.74219', '43023.97266',\n",
       "       '41929.75781', '42240.11719', '41364.66406', '42623.53906',\n",
       "       '42270.52734', '43652.25', '43869.15234', '43997.90234',\n",
       "       '43739.54297', '43016.11719', '43613.14063', '42520.40234',\n",
       "       '43442.85547', '42627.85547', '42099.40234', '42156.90234',\n",
       "       '42265.1875'], dtype='<U11')"
      ]
     },
     "execution_count": 132,
     "metadata": {},
     "output_type": "execute_result"
    }
   ],
   "source": [
    "rates[:, 1]#[274:365] #Close column"
   ]
  },
  {
   "cell_type": "code",
   "execution_count": 133,
   "id": "5639ce52-4dd1-4623-9214-e209e59e73b3",
   "metadata": {},
   "outputs": [
    {
     "data": {
      "text/plain": [
       "array(['27530.78516', '27429.97852', '27799.39453', '27415.91211',\n",
       "       '27946.59766', '27968.83984', '27935.08984', '27583.67773',\n",
       "       '27391.01953', '26873.32031', '26756.79883', '26862.375',\n",
       "       '26861.70703', '27159.65234', '28519.4668', '28415.74805',\n",
       "       '28328.3418', '28719.80664', '29682.94922', '29918.41211',\n",
       "       '29993.89648', '33086.23438', '33901.52734', '34502.82031',\n",
       "       '34156.64844', '33909.80078', '34089.57422', '34538.48047',\n",
       "       '34502.36328', '34667.78125', '35437.25391', '34938.24219',\n",
       "       '34732.32422', '35082.19531', '35049.35547', '35037.37109',\n",
       "       '35443.5625', '35655.27734', '36693.125', '37313.96875',\n",
       "       '37138.05078', '37054.51953', '36502.35547', '35537.64063',\n",
       "       '37880.58203', '36154.76953', '36596.68359', '36585.70313',\n",
       "       '37386.54688', '37476.95703', '35813.8125', '37432.33984',\n",
       "       '37289.62109', '37720.28125', '37796.79297', '37479.12109',\n",
       "       '37254.16797', '37831.08594', '37858.49219', '37712.74609',\n",
       "       '38688.75', '39476.33203', '39978.39063', '41980.09766',\n",
       "       '44080.64844', '43746.44531', '43292.66406', '44166.60156',\n",
       "       '43725.98438', '43779.69922', '41243.83203', '41450.22266',\n",
       "       '42890.74219', '43023.97266', '41929.75781', '42240.11719',\n",
       "       '41364.66406', '42623.53906', '42270.52734', '43652.25',\n",
       "       '43869.15234', '43997.90234', '43739.54297', '43016.11719',\n",
       "       '43613.14063', '42520.40234', '43442.85547', '42627.85547',\n",
       "       '42099.40234', '42156.90234', '42265.1875'], dtype='<U11')"
      ]
     },
     "execution_count": 133,
     "metadata": {},
     "output_type": "execute_result"
    }
   ],
   "source": [
    "rates[:, 1][274:365] #Close Column with records between 274 and 365. Q4, 2023"
   ]
  },
  {
   "cell_type": "code",
   "execution_count": 134,
   "id": "c90acca4-1710-40a7-b1f1-8dcfddd9651d",
   "metadata": {},
   "outputs": [],
   "source": [
    "rate = rates[:, 1].astype(np.float64)"
   ]
  },
  {
   "cell_type": "code",
   "execution_count": 135,
   "id": "5f00ee17-7948-41c0-bda2-11327d802d21",
   "metadata": {},
   "outputs": [
    {
     "data": {
      "text/plain": [
       "dtype('float64')"
      ]
     },
     "execution_count": 135,
     "metadata": {},
     "output_type": "execute_result"
    }
   ],
   "source": [
    "rate.dtype"
   ]
  },
  {
   "cell_type": "markdown",
   "id": "b3014d23-606e-4029-9ae9-47ae50eb38c6",
   "metadata": {},
   "source": [
    "Changing the datatype of rate column having Close values of Quarter 4, 2023"
   ]
  },
  {
   "cell_type": "markdown",
   "id": "e5a04dea-b375-45a3-992e-c72a6559b456",
   "metadata": {},
   "source": [
    "### Lets check various aggreagate values for Quarter 4, 2023. To see and understand, how the close of BTC-USD happened on a quarterly basis. "
   ]
  },
  {
   "cell_type": "markdown",
   "id": "5fe30a3f-065f-4eb7-8e18-7301430fdea5",
   "metadata": {},
   "source": [
    "To analyze Q4 in terms of its statistical properties -mean, minimum, maximum, percentiles, interquartile range, median, and standard deviation.  "
   ]
  },
  {
   "cell_type": "markdown",
   "id": "c74db4f5-c907-4370-8faa-bb5f5fc1dbf0",
   "metadata": {},
   "source": [
    "  $$1. Mean =\\bar{x} =\\frac{\n",
    "    x_1+x_2+\\dots+x_n\n",
    "}{\n",
    "    n\n",
    "} = \\frac{1}{n} \\sum_{i=1}^n x_i\n",
    "$$"
   ]
  },
  {
   "cell_type": "code",
   "execution_count": 144,
   "id": "296e420a-f67d-49d5-b695-bfc3de51c42b",
   "metadata": {},
   "outputs": [
    {
     "name": "stdout",
     "output_type": "stream",
     "text": [
      "Arithmetic Mean of Q4, 2023 is  36296.42820141304\n"
     ]
    }
   ],
   "source": [
    "mean_q4 =np.mean(rate[273:365])\n",
    "print('Arithmetic Mean of Q4, 2023 is ',mean_q4)"
   ]
  },
  {
   "cell_type": "markdown",
   "id": "5369bcc2-82ba-4dad-b4e6-c0b1ab82f906",
   "metadata": {},
   "source": [
    "$$\n",
    "2. Min_x= minimum \\, of \\, (x_1, x_2, \\dots, x_n) \n",
    "$$"
   ]
  },
  {
   "cell_type": "code",
   "execution_count": 145,
   "id": "e133a04e-d752-4289-896f-c7dbb2625519",
   "metadata": {},
   "outputs": [
    {
     "name": "stdout",
     "output_type": "stream",
     "text": [
      "Minimum of Q4, 2023 is  26756.79883\n",
      "Minimum of Q4, 2023 is  25162.6543\n"
     ]
    }
   ],
   "source": [
    "min_q4 =np.min(rate[273:365])\n",
    "print('Minimum of Q4, 2023 is ', min_q4)"
   ]
  },
  {
   "cell_type": "markdown",
   "id": "f2516615-3ae3-4f96-9aeb-e553af34230b",
   "metadata": {},
   "source": [
    "$$\n",
    "3. Q_1 = \\text{the value at the } \\frac{1}{4}(n+1) \\text{th position in the ordered data}\n",
    "$$"
   ]
  },
  {
   "cell_type": "code",
   "execution_count": 147,
   "id": "06b37de8-1615-4526-a22d-3b794cc850eb",
   "metadata": {},
   "outputs": [
    {
     "name": "stdout",
     "output_type": "stream",
     "text": [
      "The first quartile, denoted Q1(of Q4, 2023) is  33697.7041\n",
      "The first quartile, denoted Q1(of Q4, 2023) is  26225.555665\n"
     ]
    }
   ],
   "source": [
    "print('The first quartile, denoted Q1(of Q4, 2023) is ', np.percentile(rate[273:365],25))"
   ]
  },
  {
   "cell_type": "markdown",
   "id": "2199e105-6a90-4778-8078-6981ca1ccf8f",
   "metadata": {},
   "source": [
    "$$\n",
    "\\text{4. Median} = \n",
    "\\begin{cases} \n",
    "x_{\\frac{n+1}{2}} & \\text{if } n \\text{ is odd} \\\\\n",
    "\\frac{x_{\\frac{n}{2}} + x_{\\frac{n}{2} + 1}}{2} & \\text{if } n \\text{ is even}\n",
    "\\end{cases}\n",
    "$$\n"
   ]
  },
  {
   "cell_type": "code",
   "execution_count": 148,
   "id": "a99e49f2-b19a-43d1-820d-2d193d172564",
   "metadata": {},
   "outputs": [
    {
     "name": "stdout",
     "output_type": "stream",
     "text": [
      "Median of Q4, 2023 is  36873.822264999995\n",
      "Median of Q4, 2023 is  28871.817385\n"
     ]
    }
   ],
   "source": [
    "print('Median of Q4, 2023 is ', np.median(rate[273:365]))"
   ]
  },
  {
   "cell_type": "markdown",
   "id": "9279d76d-24c1-4a83-be6b-15b13e3168c8",
   "metadata": {},
   "source": [
    "$$\n",
    "5. Q_3 = \\text{the value at the } \\frac{3}{4}(n+1) \\text{th position in the ordered data}\n",
    "$$"
   ]
  },
  {
   "cell_type": "code",
   "execution_count": 149,
   "id": "0c670105-81da-4afa-919e-e20ad824293f",
   "metadata": {},
   "outputs": [
    {
     "name": "stdout",
     "output_type": "stream",
     "text": [
      "The third quartile, denoted Q3(of Q4, 2023) is  42009.92383\n",
      "The third quartile, denoted Q3(of Q4, 2023) is  29767.069825\n"
     ]
    }
   ],
   "source": [
    "print('The third quartile, denoted Q3(of Q4, 2023) is ',np.percentile(rate[273:365],75))"
   ]
  },
  {
   "cell_type": "markdown",
   "id": "c376a74c-7a59-4222-90a6-bc7972c2e03b",
   "metadata": {},
   "source": [
    "$$\n",
    "6. Max_x= maximum \\, of \\, (x_1, x_2, \\dots, x_n) \n",
    "$$"
   ]
  },
  {
   "cell_type": "code",
   "execution_count": 151,
   "id": "8bff0544-2fe4-48f5-a996-6505adba2cba",
   "metadata": {},
   "outputs": [
    {
     "name": "stdout",
     "output_type": "stream",
     "text": [
      "Maximum of Q4, 2023 is  44166.60156\n"
     ]
    }
   ],
   "source": [
    "max_q4 =np.max(rate[273:365])\n",
    "print('Maximum of Q4, 2023 is ', max_q4)"
   ]
  },
  {
   "cell_type": "markdown",
   "id": "687d82a0-7855-439f-a762-5edcc229ecac",
   "metadata": {},
   "source": [
    "$$\n",
    "7. standard \\,deviation = \\sqrt{\\frac{1}{n-1} \\sum_{i=1}^{n} (x_i - \\bar{x})^2}\n",
    "$$\n"
   ]
  },
  {
   "cell_type": "code",
   "execution_count": 152,
   "id": "bebff33d-b323-4122-a8ab-941f23c78d5f",
   "metadata": {},
   "outputs": [
    {
     "name": "stdout",
     "output_type": "stream",
     "text": [
      "Standard Deviation of Q4, 2023 is 5639.041625110242\n",
      "Standard Deviation of Q4, 2023 is 1827.0403130479656\n"
     ]
    }
   ],
   "source": [
    "print('Standard Deviation of Q4, 2023 is', np.std(rate[273:365], ddof=1))"
   ]
  },
  {
   "cell_type": "markdown",
   "id": "9e8cc0a8-30ec-4e5e-92f7-4c18b6c92312",
   "metadata": {},
   "source": [
    "$$\\mathrm{8. IQR} = q_{0.75}-q_{0.25} = Q_3 - Q_1$$"
   ]
  },
  {
   "cell_type": "code",
   "execution_count": 155,
   "id": "cf274c70-749d-4f71-a78f-157cd5e54bd4",
   "metadata": {},
   "outputs": [
    {
     "name": "stdout",
     "output_type": "stream",
     "text": [
      "Interquartile range or IQR of Q4, 2023 is  8312.219729999997\n"
     ]
    }
   ],
   "source": [
    "print('Interquartile range or IQR of Q4, 2023 is ',np.quantile(rate[273:365],0.75) - np.quantile(rate[273:365], 0.25))"
   ]
  },
  {
   "cell_type": "markdown",
   "id": "f267dcd6-65ec-4514-9e7e-e6a8c9a84955",
   "metadata": {},
   "source": [
    "### Lets plot to understand, value at which the BTC- USD closed on a daily basis in Q3, 2023.  "
   ]
  },
  {
   "cell_type": "code",
   "execution_count": 110,
   "id": "5e94aba6-e2b4-4106-88be-82490df7d356",
   "metadata": {},
   "outputs": [],
   "source": [
    "import matplotlib.pyplot as plt"
   ]
  },
  {
   "cell_type": "code",
   "execution_count": 118,
   "id": "974ee49f-5faa-47a6-8cdf-0b6e3cc6c8b1",
   "metadata": {},
   "outputs": [
    {
     "data": {
      "image/png": "[encoded data removed]",
      "text/plain": [
       "<Figure size 432x288 with 1 Axes>"
      ]
     },
     "metadata": {
      "needs_background": "light"
     },
     "output_type": "display_data"
    }
   ],
   "source": [
    "days = np.arange(1, 366)\n",
    "plt.plot(days[274:365], rate[274:365], 'r-', label='Q4 2023')\n",
    "plt.title('Q4 2023 Data (October to December)')\n",
    "\n",
    "plt.xlabel('Days (Oct-Dec 2023)')\n",
    "plt.ylabel('Rates')\n",
    "\n",
    "# Show the plot\n",
    "plt.legend()\n",
    "plt.show()"
   ]
  },
  {
   "cell_type": "markdown",
   "id": "ad58474a-d1a8-4890-86fc-a778d42560f3",
   "metadata": {},
   "source": [
    "### Inferences\n",
    "We can see, in Quarter 3, even though initially value went down for 2-3 days yet it kept on plummeting and reaching high. There are instances, when it increased for ~ 5000, initially on day 297-298, even then it kept on increasing at quite a good rate. Another instance when it increased for ~5000, between days 340-343, and reached the maximum of Q3, 2023. the value did try to correct itself by falling for almost 2000 in next 3 days, even then it kept itself within the range of 42,500- 43000. Towards the end of Q3, we had an upward movement of almost 15000. It did close a bit less compared to the maximum range spiked, it can be confirmed, it has a steady increase. "
   ]
  },
  {
   "cell_type": "code",
   "execution_count": 121,
   "id": "d9b39bb5-3e20-4e63-97ad-a9f6692f4de8",
   "metadata": {},
   "outputs": [
    {
     "name": "stdout",
     "output_type": "stream",
     "text": [
      "Lowest price observed on day 285 with price 26756.79883\n",
      "Highest price observed on day 342 with price 44166.60156\n"
     ]
    }
   ],
   "source": [
    "min_index = np.argmin(rate[274:365])\n",
    "max_index = np.argmax(rate[274:365])\n",
    "min_day = days[274:365][min_index]\n",
    "max_day = days[274:365][max_index]\n",
    "print(f\"Lowest price observed on day {min_day} with price {rate[274:365][min_index]}\")\n",
    "print(f\"Highest price observed on day {max_day} with price {rate[274:365][max_index]}\")"
   ]
  },
  {
   "cell_type": "markdown",
   "id": "3813b27b-784d-4199-8d88-7ac71cbd3c37",
   "metadata": {},
   "source": [
    "As inferred before, we can see eventhough, Q3 started with 27500, it went down (lowest) on day 285 and reached maximum valu eof 44167 on day 342. "
   ]
  },
  {
   "cell_type": "markdown",
   "id": "d0bc520b-3c00-47a7-9a38-ce2a3ec9cfe9",
   "metadata": {},
   "source": [
    "### Daily changes on Price and Mean of the changes\n",
    "Lets Plot to see, how many outliers are received and if mean stays between IQR"
   ]
  },
  {
   "cell_type": "code",
   "execution_count": 124,
   "id": "51eb127d-029a-4015-89ba-3ca8fee7bdfe",
   "metadata": {},
   "outputs": [],
   "source": [
    "daily_changes = np.diff(rate[274:365]) \n",
    "mean_change = np.mean(daily_changes)"
   ]
  },
  {
   "cell_type": "code",
   "execution_count": 126,
   "id": "9547133b-b639-4410-a60b-efc9f252ffa4",
   "metadata": {},
   "outputs": [
    {
     "data": {
      "image/png": "[encoded data removed]",
      "text/plain": [
       "<Figure size 432x288 with 1 Axes>"
      ]
     },
     "metadata": {
      "needs_background": "light"
     },
     "output_type": "display_data"
    }
   ],
   "source": [
    "plt.boxplot(daily_changes, vert=False)  # 'vert=False' makes the boxplot horizontal\n",
    "plt.plot(mean_change, 1, 'gx', label='Mean')\n",
    "# Add title and labels\n",
    "plt.title('Daily Price Increases/Decreases in Q4 2023')\n",
    "plt.xlabel('Price Change')\n",
    "plt.legend()\n",
    "# Show the plot\n",
    "plt.show()"
   ]
  },
  {
   "cell_type": "markdown",
   "id": "3bb2b569-9360-4110-ae32-13d792fa1572",
   "metadata": {},
   "source": [
    "### Inference\n",
    "1. We can see from above box plot, mean is a bit more than 0 for daily price changes. \n",
    "2. Daily Price Change mostly ranges between -100 to 700(almost)\n",
    "3. IQR for daily difference between the data ranges between -1000 to 1700\n",
    "4. We have 7 outliers\n",
    "5. Where we can see there were a daily price difference between 2000 and 3000 towards the positive end. \n",
    "6. Only once, price went down drastically, from around -2500. Rest 3 time, it went down between 1500 to 1700. \n"
   ]
  },
  {
   "cell_type": "markdown",
   "id": "3d6e0762-53ac-49d5-9ef1-0df267e65e21",
   "metadata": {},
   "source": [
    "Lets programitically, count the number of outliers, "
   ]
  },
  {
   "cell_type": "code",
   "execution_count": 127,
   "id": "a12acf45-4002-4a4c-bf50-cd84c797cd7c",
   "metadata": {},
   "outputs": [],
   "source": [
    "Q1 = np.percentile(daily_changes, 25)\n",
    "Q3 = np.percentile(daily_changes, 75)\n",
    "IQR = Q3 - Q1\n",
    "\n",
    "# Calculate the lower and upper bounds for outliers\n",
    "lower_bound = Q1 - 1.5 * IQR\n",
    "upper_bound = Q3 + 1.5 * IQR\n",
    "\n",
    "# Count how many outliers are below the lower bound or above the upper bound\n",
    "outliers = (daily_changes < lower_bound) | (daily_changes > upper_bound)\n",
    "num_outliers = np.sum(outliers)"
   ]
  },
  {
   "cell_type": "code",
   "execution_count": 136,
   "id": "d853e6c5-2dec-431a-b886-1964ed88c62d",
   "metadata": {},
   "outputs": [
    {
     "name": "stdout",
     "output_type": "stream",
     "text": [
      "There are 7 Outliers in the data set\n"
     ]
    }
   ],
   "source": [
    "print('There are', num_outliers, 'Outliers in the data set')"
   ]
  },
  {
   "cell_type": "markdown",
   "id": "1dcd64dd-b6ed-4523-a32a-3c559d367ceb",
   "metadata": {},
   "source": [
    "As inferred before, we have 7 outliers where data is either less than the lower bound of IQR and upper bound of IQR. "
   ]
  },
  {
   "cell_type": "markdown",
   "id": "78bc4e42-1bb5-4697-9865-af6d6b028618",
   "metadata": {},
   "source": [
    "## Conclusion\n",
    "In conclusion, this analysis provided a view of the daily price changes in Q4 2023. By calculating the daily price changes, visualizing these changes through a box-and-whisker plot, and marking the arithmetic mean, we were able to identify the overall trends and variability within the data. The identification of outliers also highlighted periods where the price changes were significantly different from usual, providing insights into abnormal market behaviors or exceptional events during that quarter."
   ]
  }
 ],
 "metadata": {
  "kernelspec": {
   "display_name": "Python 3 (ipykernel)",
   "language": "python",
   "name": "python3"
  },
  "language_info": {
   "codemirror_mode": {
    "name": "ipython",
    "version": 3
   },
   "file_extension": ".py",
   "mimetype": "text/x-python",
   "name": "python",
   "nbconvert_exporter": "python",
   "pygments_lexer": "ipython3",
   "version": "3.9.12"
  }
 },
 "nbformat": 4,
 "nbformat_minor": 5
}
