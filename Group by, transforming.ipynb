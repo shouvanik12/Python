{
 "cells": [
  {
   "cell_type": "code",
   "execution_count": 2,
   "id": "efe57fbe-500a-4af0-9f3e-ab452e688ebd",
   "metadata": {},
   "outputs": [],
   "source": [
    "import numpy as np\n",
    "import pandas as pd\n",
    "import matplotlib.pyplot as plt\n",
    "import seaborn as sns\n",
    "pd.set_option(\"display.notebook_repr_html\", False)  # disable \"rich\" output\n",
    "plt.style.use(\"seaborn\")"
   ]
  },
  {
   "cell_type": "code",
   "execution_count": 3,
   "id": "8bcae0d4-2726-43e4-9c86-a04f66e0d8da",
   "metadata": {},
   "outputs": [
    {
     "data": {
      "text/plain": [
       "             Species Location          Age  Diameter  Year\n",
       "0       London Plane   Street     Juvenile        16  2009\n",
       "1   Japanese Zelkova   Street  Semi-Mature        12  2008\n",
       "2  Lemon Scented Gum   Street     Juvenile         8  2009\n",
       "3   Japanese Zelkova   Street  Semi-Mature        20  2008\n",
       "4   Japanese Zelkova   Street  Semi-Mature        18  2006"
      ]
     },
     "execution_count": 3,
     "metadata": {},
     "output_type": "execute_result"
    }
   ],
   "source": [
    "trees = pd.read_csv(\"https://raw.githubusercontent.com/gagolews/\" +\n",
    "    \"teaching-data/master/marek/urban_forest_subset2.csv\",\n",
    "    comment=\"#\")\n",
    "trees = trees.rename({\n",
    "    \"Common Name\": \"Species\",\n",
    "    \"Diameter Breast Height\": \"Diameter\",\n",
    "    \"Year Planted\": \"Year\",\n",
    "    \"Located In\": \"Location\",\n",
    "    \"Age Description\": \"Age\",\n",
    "}, axis=1).loc[:, [\"Species\", \"Location\", \"Age\", \"Diameter\", \"Year\"]]\n",
    "trees.head()"
   ]
  },
  {
   "cell_type": "code",
   "execution_count": 4,
   "id": "76b0bd0b-24ed-48a0-b024-6fe2a2804401",
   "metadata": {},
   "outputs": [
    {
     "data": {
      "text/plain": [
       "count              100\n",
       "unique               4\n",
       "top       London Plane\n",
       "freq                33\n",
       "Name: Species, dtype: object"
      ]
     },
     "execution_count": 4,
     "metadata": {},
     "output_type": "execute_result"
    }
   ],
   "source": [
    "trees.loc[:,\"Species\"].describe()"
   ]
  },
  {
   "cell_type": "code",
   "execution_count": 5,
   "id": "9508ce27-1ce5-4ac9-9f0b-25a250d972b4",
   "metadata": {},
   "outputs": [
    {
     "data": {
      "text/plain": [
       "London Plane         33\n",
       "Japanese Zelkova     28\n",
       "Lemon Scented Gum    25\n",
       "Peppercorn Tree      14\n",
       "Name: Species, dtype: int64"
      ]
     },
     "execution_count": 5,
     "metadata": {},
     "output_type": "execute_result"
    }
   ],
   "source": [
    "trees.loc[:,\"Species\"].value_counts()"
   ]
  },
  {
   "cell_type": "code",
   "execution_count": 6,
   "id": "d3dec10a-efa5-49d4-a364-99c80711dd19",
   "metadata": {},
   "outputs": [
    {
     "data": {
      "text/plain": [
       "Semi-Mature    50\n",
       "Juvenile       28\n",
       "New            17\n",
       "Mature          5\n",
       "Name: Age, dtype: int64"
      ]
     },
     "execution_count": 6,
     "metadata": {},
     "output_type": "execute_result"
    }
   ],
   "source": [
    "trees.loc[:,\"Age\"].value_counts()"
   ]
  },
  {
   "cell_type": "code",
   "execution_count": 8,
   "id": "c7c51c33-dc81-4a88-9053-53e4e8fd385a",
   "metadata": {},
   "outputs": [
    {
     "data": {
      "text/plain": [
       "count    100.000000\n",
       "mean      17.400000\n",
       "std       16.877455\n",
       "min        1.000000\n",
       "25%        7.750000\n",
       "50%       14.000000\n",
       "75%       21.000000\n",
       "max      114.000000\n",
       "Name: Diameter, dtype: float64"
      ]
     },
     "execution_count": 8,
     "metadata": {},
     "output_type": "execute_result"
    }
   ],
   "source": [
    "trees.loc[:,\"Diameter\"].describe()"
   ]
  },
  {
   "cell_type": "code",
   "execution_count": 9,
   "id": "8717f6a6-d867-4ccf-ba00-ab8779654d31",
   "metadata": {},
   "outputs": [
    {
     "data": {
      "text/plain": [
       "count     100.0000\n",
       "mean     2007.7400\n",
       "std         1.4538\n",
       "min      2005.0000\n",
       "25%      2006.0000\n",
       "50%      2008.0000\n",
       "75%      2009.0000\n",
       "max      2010.0000\n",
       "Name: Year, dtype: float64"
      ]
     },
     "execution_count": 9,
     "metadata": {},
     "output_type": "execute_result"
    }
   ],
   "source": [
    "trees.loc[:,\"Year\"].describe()"
   ]
  },
  {
   "cell_type": "code",
   "execution_count": 12,
   "id": "cf6e1f1d-1a3a-4545-84a8-9887140e619d",
   "metadata": {},
   "outputs": [
    {
     "data": {
      "text/plain": [
       "           Diameter         Year\n",
       "Location                        \n",
       "Park      22.629630  2008.185185\n",
       "Street    15.465753  2007.575342"
      ]
     },
     "execution_count": 12,
     "metadata": {},
     "output_type": "execute_result"
    }
   ],
   "source": [
    "trees.groupby(\"Location\").mean()"
   ]
  },
  {
   "cell_type": "code",
   "execution_count": 16,
   "id": "b223d858-e402-4f25-8bf5-a25f3e6244e0",
   "metadata": {},
   "outputs": [
    {
     "data": {
      "text/plain": [
       "Location\n",
       "Park      22.629630\n",
       "Street    15.465753\n",
       "Name: Diameter, dtype: float64"
      ]
     },
     "execution_count": 16,
     "metadata": {},
     "output_type": "execute_result"
    }
   ],
   "source": [
    "trees.groupby(\"Location\")[\"Diameter\"].mean()"
   ]
  },
  {
   "cell_type": "code",
   "execution_count": 17,
   "id": "1cabc233-8cb2-4f6b-9104-f2c9b9436b22",
   "metadata": {},
   "outputs": [
    {
     "data": {
      "text/plain": [
       "  Location   Diameter         Year\n",
       "0     Park  22.629630  2008.185185\n",
       "1   Street  15.465753  2007.575342"
      ]
     },
     "execution_count": 17,
     "metadata": {},
     "output_type": "execute_result"
    }
   ],
   "source": [
    "trees.groupby(\"Location\").mean().reset_index()"
   ]
  },
  {
   "cell_type": "code",
   "execution_count": 19,
   "id": "e40bb998-9c4b-4d30-a79a-a6c95f2b185f",
   "metadata": {},
   "outputs": [
    {
     "data": {
      "text/plain": [
       "                             Diameter         Year\n",
       "Species           Location                        \n",
       "Japanese Zelkova  Park      19.500000  2009.000000\n",
       "                  Street    10.576923  2007.615385\n",
       "Lemon Scented Gum Park       8.818182  2008.909091\n",
       "                  Street    10.357143  2007.571429\n",
       "London Plane      Park      44.000000  2006.000000\n",
       "                  Street    19.133333  2007.500000\n",
       "Peppercorn Tree   Park      31.181818  2007.909091\n",
       "                  Street    45.000000  2008.000000"
      ]
     },
     "execution_count": 19,
     "metadata": {},
     "output_type": "execute_result"
    }
   ],
   "source": [
    "trees.groupby([\"Species\",\"Location\"]).mean()"
   ]
  },
  {
   "cell_type": "code",
   "execution_count": 22,
   "id": "14ef227c-1abf-4147-867a-5df96b1160a3",
   "metadata": {},
   "outputs": [
    {
     "data": {
      "text/plain": [
       "                          Year\n",
       "Location Diameter             \n",
       "Park     2         2009.500000\n",
       "         3         2010.000000\n",
       "         4         2009.750000\n",
       "         5         2008.000000\n",
       "         8         2008.000000\n",
       "         13        2009.000000\n",
       "         14        2008.000000\n",
       "         17        2009.000000\n",
       "         18        2006.000000\n",
       "         19        2006.000000\n",
       "         21        2009.000000\n",
       "         22        2006.000000\n",
       "         23        2006.000000\n",
       "         24        2006.000000\n",
       "         29        2008.000000\n",
       "         32        2009.000000\n",
       "         35        2009.000000\n",
       "         38        2008.000000\n",
       "         40        2008.000000\n",
       "         91        2006.000000\n",
       "         114       2008.000000\n",
       "Street   1         2010.000000\n",
       "         2         2010.000000\n",
       "         3         2009.500000\n",
       "         4         2007.500000\n",
       "         6         2008.000000\n",
       "         7         2007.000000\n",
       "         8         2007.666667\n",
       "         9         2005.666667\n",
       "         10        2009.000000\n",
       "         11        2006.500000\n",
       "         12        2008.111111\n",
       "         13        2008.000000\n",
       "         14        2007.500000\n",
       "         15        2008.500000\n",
       "         16        2009.000000\n",
       "         17        2006.000000\n",
       "         18        2006.000000\n",
       "         19        2007.333333\n",
       "         20        2006.500000\n",
       "         21        2007.500000\n",
       "         22        2009.000000\n",
       "         23        2006.000000\n",
       "         27        2009.000000\n",
       "         29        2006.000000\n",
       "         31        2006.000000\n",
       "         32        2008.000000\n",
       "         51        2008.000000\n",
       "         52        2008.000000\n",
       "         70        2008.000000"
      ]
     },
     "execution_count": 22,
     "metadata": {},
     "output_type": "execute_result"
    }
   ],
   "source": [
    "trees.groupby([\"Location\",\"Diameter\"]).mean()"
   ]
  },
  {
   "cell_type": "code",
   "execution_count": 23,
   "id": "02f5139e-17f2-4fac-988e-c55c3242fede",
   "metadata": {},
   "outputs": [
    {
     "data": {
      "text/plain": [
       "Species            Location\n",
       "Japanese Zelkova   Park         2\n",
       "                   Street      26\n",
       "Lemon Scented Gum  Park        11\n",
       "                   Street      14\n",
       "London Plane       Park         3\n",
       "                   Street      30\n",
       "Peppercorn Tree    Park        11\n",
       "                   Street       3\n",
       "dtype: int64"
      ]
     },
     "execution_count": 23,
     "metadata": {},
     "output_type": "execute_result"
    }
   ],
   "source": [
    "trees.groupby([\"Species\",\"Location\"]).size()"
   ]
  },
  {
   "cell_type": "code",
   "execution_count": 24,
   "id": "58499a63-3fd6-432a-9026-16aaa340e18c",
   "metadata": {},
   "outputs": [
    {
     "data": {
      "text/plain": [
       "             Species Location  count\n",
       "0   Japanese Zelkova     Park      2\n",
       "1   Japanese Zelkova   Street     26\n",
       "2  Lemon Scented Gum     Park     11\n",
       "3  Lemon Scented Gum   Street     14\n",
       "4       London Plane     Park      3\n",
       "5       London Plane   Street     30\n",
       "6    Peppercorn Tree     Park     11\n",
       "7    Peppercorn Tree   Street      3"
      ]
     },
     "execution_count": 24,
     "metadata": {},
     "output_type": "execute_result"
    }
   ],
   "source": [
    "trees.groupby([\"Species\",\"Location\"]).size().rename(\"count\").reset_index()"
   ]
  },
  {
   "cell_type": "code",
   "execution_count": 29,
   "id": "8c8518aa-0c40-4cc3-9910-f629a9505b68",
   "metadata": {},
   "outputs": [
    {
     "data": {
      "text/plain": [
       "   index   Diameter\n",
       "0  count   2.000000\n",
       "1   mean  50.000000\n",
       "2    std  32.526912\n",
       "3    min  27.000000\n",
       "4    25%  38.500000\n",
       "5    50%  50.000000\n",
       "6    75%  61.500000\n",
       "7    max  73.000000"
      ]
     },
     "execution_count": 29,
     "metadata": {},
     "output_type": "execute_result"
    }
   ],
   "source": [
    "trees.groupby(\"Location\")[\"Diameter\"].size().describe().reset_index()"
   ]
  },
  {
   "cell_type": "code",
   "execution_count": 30,
   "id": "1b0521d7-947c-48e4-a777-32030fdc33c0",
   "metadata": {},
   "outputs": [
    {
     "data": {
      "text/plain": [
       "  Location       mean  median\n",
       "0     Park  22.629630    18.0\n",
       "1   Street  15.465753    13.0"
      ]
     },
     "execution_count": 30,
     "metadata": {},
     "output_type": "execute_result"
    }
   ],
   "source": [
    "trees.groupby(\"Location\")[\"Diameter\"].aggregate([np.mean, np.median]).reset_index()"
   ]
  },
  {
   "cell_type": "code",
   "execution_count": 31,
   "id": "9f005dd8-73e8-4672-aa1c-23e476675ed6",
   "metadata": {},
   "outputs": [
    {
     "data": {
      "text/plain": [
       "0    -0.325790\n",
       "1     0.101961\n",
       "2    -0.259546\n",
       "3     1.140111\n",
       "4     0.880574\n",
       "        ...   \n",
       "95   -0.417114\n",
       "96    2.935770\n",
       "97   -1.065958\n",
       "98    1.010343\n",
       "99    0.225660\n",
       "Name: Diameter, Length: 100, dtype: float64"
      ]
     },
     "execution_count": 31,
     "metadata": {},
     "output_type": "execute_result"
    }
   ],
   "source": [
    "def standardise(x):\n",
    "    return(x-np.mean(x))/np.std(x,ddof=1)\n",
    "trees.groupby(\"Species\")[\"Diameter\"].transform(standardise)"
   ]
  },
  {
   "cell_type": "code",
   "execution_count": 32,
   "id": "72145cc8-fe8c-43ac-89ab-d9effb6153bb",
   "metadata": {},
   "outputs": [],
   "source": [
    "trees[\"Diameter_Std\"]=trees.groupby(\"Species\")[\"Diameter\"].transform(standardise)"
   ]
  },
  {
   "cell_type": "code",
   "execution_count": 33,
   "id": "0ee5caf6-d2c4-4e49-9587-7c811d6df7fe",
   "metadata": {},
   "outputs": [
    {
     "data": {
      "text/plain": [
       "              Species Location          Age  Diameter  Year  Diameter_Std\n",
       "0        London Plane   Street     Juvenile        16  2009     -0.325790\n",
       "1    Japanese Zelkova   Street  Semi-Mature        12  2008      0.101961\n",
       "2   Lemon Scented Gum   Street     Juvenile         8  2009     -0.259546\n",
       "3    Japanese Zelkova   Street  Semi-Mature        20  2008      1.140111\n",
       "4    Japanese Zelkova   Street  Semi-Mature        18  2006      0.880574\n",
       "..                ...      ...          ...       ...   ...           ...\n",
       "95   Japanese Zelkova   Street     Juvenile         8  2006     -0.417114\n",
       "96       London Plane   Street       Mature        70  2008      2.935770\n",
       "97   Japanese Zelkova   Street     Juvenile         3  2009     -1.065958\n",
       "98   Japanese Zelkova   Street  Semi-Mature        19  2008      1.010343\n",
       "99    Peppercorn Tree     Park  Semi-Mature        40  2008      0.225660\n",
       "\n",
       "[100 rows x 6 columns]"
      ]
     },
     "execution_count": 33,
     "metadata": {},
     "output_type": "execute_result"
    }
   ],
   "source": [
    "trees"
   ]
  },
  {
   "cell_type": "code",
   "execution_count": 34,
   "id": "48f5180e-fff5-41ce-8a04-9e98d48a4381",
   "metadata": {},
   "outputs": [
    {
     "data": {
      "text/plain": [
       "                           mean       std\n",
       "Species                                  \n",
       "Japanese Zelkova   9.516197e-17  1.018350\n",
       "Lemon Scented Gum  3.663736e-17  1.020621\n",
       "London Plane      -2.691450e-17  1.015505\n",
       "Peppercorn Tree   -1.110223e-16  1.037749"
      ]
     },
     "execution_count": 34,
     "metadata": {},
     "output_type": "execute_result"
    }
   ],
   "source": [
    "trees.groupby(\"Species\")[\"Diameter_Std\"].aggregate([np.mean,np.std])"
   ]
  },
  {
   "cell_type": "code",
   "execution_count": 36,
   "id": "1bac4763-e68a-4560-8e03-142c37c402ad",
   "metadata": {},
   "outputs": [
    {
     "data": {
      "image/png": "[encoded data removed]",
      "text/plain": [
       "<Figure size 576x396 with 1 Axes>"
      ]
     },
     "metadata": {},
     "output_type": "display_data"
    }
   ],
   "source": [
    "sns.boxplot(x=\"Diameter\",data=trees)\n",
    "plt.show()"
   ]
  },
  {
   "cell_type": "code",
   "execution_count": 37,
   "id": "82850ace-b22a-4f26-9d51-d19ad3e15f8e",
   "metadata": {},
   "outputs": [
    {
     "data": {
      "image/png": "[encoded data removed]",
      "text/plain": [
       "<Figure size 576x396 with 1 Axes>"
      ]
     },
     "metadata": {},
     "output_type": "display_data"
    }
   ],
   "source": [
    "sns.boxplot(x=\"Diameter\", y = \"Species\",data=trees)\n",
    "plt.show()"
   ]
  },
  {
   "cell_type": "code",
   "execution_count": 38,
   "id": "ad642d09-1fc5-406d-a188-95b8ecd83fff",
   "metadata": {},
   "outputs": [
    {
     "data": {
      "image/png": "[encoded data removed]",
      "text/plain": [
       "<Figure size 576x396 with 1 Axes>"
      ]
     },
     "metadata": {},
     "output_type": "display_data"
    }
   ],
   "source": [
    "sns.boxplot(x=\"Diameter\", y = \"Species\", hue= \"Location\",data=trees)\n",
    "plt.show()"
   ]
  },
  {
   "cell_type": "code",
   "execution_count": 39,
   "id": "8d884795-4bf2-4055-a676-2604ebd5d0a2",
   "metadata": {},
   "outputs": [
    {
     "data": {
      "text/plain": [
       "             Species Location  Counts\n",
       "0   Japanese Zelkova     Park       2\n",
       "1   Japanese Zelkova   Street      26\n",
       "2  Lemon Scented Gum     Park      11\n",
       "3  Lemon Scented Gum   Street      14\n",
       "4       London Plane     Park       3\n",
       "5       London Plane   Street      30\n",
       "6    Peppercorn Tree     Park      11\n",
       "7    Peppercorn Tree   Street       3"
      ]
     },
     "execution_count": 39,
     "metadata": {},
     "output_type": "execute_result"
    }
   ],
   "source": [
    "trees.groupby([\"Species\", \"Location\"]).size().rename(\"Counts\").reset_index()"
   ]
  },
  {
   "cell_type": "code",
   "execution_count": 41,
   "id": "b4ffda74-a187-43fd-8c9d-a1f04f962044",
   "metadata": {},
   "outputs": [
    {
     "data": {
      "image/png": "[encoded data removed]",
      "text/plain": [
       "<Figure size 576x396 with 1 Axes>"
      ]
     },
     "metadata": {},
     "output_type": "display_data"
    }
   ],
   "source": [
    "sns.barplot(\n",
    "    x= \"Species\",\n",
    "    y= \"Counts\",\n",
    "    hue= \"Location\",\n",
    "    data = trees.groupby([\"Species\", \"Location\"]).size().rename(\"Counts\").reset_index()\n",
    ")\n",
    "plt.show()"
   ]
  }
 ],
 "metadata": {
  "kernelspec": {
   "display_name": "Python 3 (ipykernel)",
   "language": "python",
   "name": "python3"
  },
  "language_info": {
   "codemirror_mode": {
    "name": "ipython",
    "version": 3
   },
   "file_extension": ".py",
   "mimetype": "text/x-python",
   "name": "python",
   "nbconvert_exporter": "python",
   "pygments_lexer": "ipython3",
   "version": "3.9.12"
  }
 },
 "nbformat": 4,
 "nbformat_minor": 5
}
