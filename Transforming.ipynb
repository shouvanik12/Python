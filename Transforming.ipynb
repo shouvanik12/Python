{
 "cells": [
  {
   "cell_type": "markdown",
   "id": "fe430623-44a1-4b49-b74c-517797c92311",
   "metadata": {},
   "source": [
    "## np.abs, np.round, np.sqrt, np.square, np.log, np.exp, np.sin, np.cos"
   ]
  },
  {
   "cell_type": "markdown",
   "id": "908949b0-9fb9-4db9-9493-e9b8c3d25b3a",
   "metadata": {},
   "source": [
    "### Feature Scaling"
   ]
  },
  {
   "cell_type": "code",
   "execution_count": 4,
   "id": "278303f1-634b-4213-a06f-b279af88f74c",
   "metadata": {},
   "outputs": [],
   "source": [
    "import numpy as np"
   ]
  },
  {
   "cell_type": "code",
   "execution_count": 5,
   "id": "f5133fc3-2075-4e0c-a5d2-1c33e0461e9a",
   "metadata": {},
   "outputs": [],
   "source": [
    "#stabdardisation: subtract the mean, divide by std deviation\n",
    "\n",
    "heights = np.loadtxt(\"https://raw.githubusercontent.com/gagolews/\" +\n",
    "    \"teaching-data/master/marek/nhanes_adult_female_height_2020.txt\")"
   ]
  },
  {
   "cell_type": "code",
   "execution_count": 12,
   "id": "d9f161de-73d6-43dc-a596-b488e84af297",
   "metadata": {},
   "outputs": [
    {
     "data": {
      "text/plain": [
       "array([157. , 167.4, 159.6, 168.5, 147.8])"
      ]
     },
     "execution_count": 12,
     "metadata": {},
     "output_type": "execute_result"
    }
   ],
   "source": [
    "heights[-5:]"
   ]
  },
  {
   "cell_type": "code",
   "execution_count": 13,
   "id": "38b79a86-214a-4a1e-8c8c-4d37f81e7861",
   "metadata": {},
   "outputs": [],
   "source": [
    "#z-score\n",
    "\n",
    "heights_z = (heights-np.mean(heights))/np.std(heights, ddof = 1)"
   ]
  },
  {
   "cell_type": "code",
   "execution_count": 14,
   "id": "aac59412-9ed9-4569-a5f3-16ff83003206",
   "metadata": {},
   "outputs": [
    {
     "data": {
      "text/plain": [
       "array([-0.44412503,  1.02836659, -0.07600212,  1.1841109 , -1.74671377])"
      ]
     },
     "execution_count": 14,
     "metadata": {},
     "output_type": "execute_result"
    }
   ],
   "source": [
    "heights_z[-5:]\n",
    "\n",
    "#interpretation- z_score = 0 -- means equal to mean, \n",
    "#1-- 1sd, aboove the mean\n",
    "#-1 --1 sd, below the mean\n",
    "#3-- 3 sd above the mean\n"
   ]
  },
  {
   "cell_type": "markdown",
   "id": "e3adf825-1764-4ff6-837f-fd88ad2b7e33",
   "metadata": {},
   "source": [
    "### min max scaling"
   ]
  },
  {
   "cell_type": "code",
   "execution_count": null,
   "id": "29dea554-a523-4d75-9b97-09bb6735570f",
   "metadata": {},
   "outputs": [],
   "source": [
    "(x-(np.min(x))/(np.max(x) - np.min(x))"
   ]
  }
 ],
 "metadata": {
  "kernelspec": {
   "display_name": "Python 3 (ipykernel)",
   "language": "python",
   "name": "python3"
  },
  "language_info": {
   "codemirror_mode": {
    "name": "ipython",
    "version": 3
   },
   "file_extension": ".py",
   "mimetype": "text/x-python",
   "name": "python",
   "nbconvert_exporter": "python",
   "pygments_lexer": "ipython3",
   "version": "3.9.12"
  }
 },
 "nbformat": 4,
 "nbformat_minor": 5
}
