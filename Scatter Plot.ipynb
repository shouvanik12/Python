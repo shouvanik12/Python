{
 "cells": [
  {
   "cell_type": "code",
   "execution_count": 1,
   "id": "62cf5c74-a2eb-4ae3-9ab7-573deb2e5c95",
   "metadata": {},
   "outputs": [
    {
     "ename": "NameError",
     "evalue": "name 'body' is not defined",
     "output_type": "error",
     "traceback": [
      "\u001b[1;31m---------------------------------------------------------------------------\u001b[0m",
      "\u001b[1;31mNameError\u001b[0m                                 Traceback (most recent call last)",
      "Input \u001b[1;32mIn [1]\u001b[0m, in \u001b[0;36m<cell line: 4>\u001b[1;34m()\u001b[0m\n\u001b[0;32m      2\u001b[0m \u001b[38;5;28;01mimport\u001b[39;00m \u001b[38;5;21;01mseaborn\u001b[39;00m \u001b[38;5;28;01mas\u001b[39;00m \u001b[38;5;21;01msns\u001b[39;00m\n\u001b[0;32m      3\u001b[0m plt\u001b[38;5;241m.\u001b[39mstyle\u001b[38;5;241m.\u001b[39muse(\u001b[38;5;124m\"\u001b[39m\u001b[38;5;124mseaborn\u001b[39m\u001b[38;5;124m\"\u001b[39m)\n\u001b[1;32m----> 4\u001b[0m plt\u001b[38;5;241m.\u001b[39mscatter(\u001b[43mbody\u001b[49m[:, \u001b[38;5;241m1\u001b[39m], body[:, \u001b[38;5;241m3\u001b[39m])  \u001b[38;5;66;03m# x=body[:, 1], y=body[:, 3]\u001b[39;00m\n\u001b[0;32m      5\u001b[0m plt\u001b[38;5;241m.\u001b[39mxlabel(\u001b[38;5;124m\"\u001b[39m\u001b[38;5;124mstanding height (cm)\u001b[39m\u001b[38;5;124m\"\u001b[39m)\n\u001b[0;32m      6\u001b[0m plt\u001b[38;5;241m.\u001b[39mylabel(\u001b[38;5;124m\"\u001b[39m\u001b[38;5;124mupper leg length (cm)\u001b[39m\u001b[38;5;124m\"\u001b[39m)\n",
      "\u001b[1;31mNameError\u001b[0m: name 'body' is not defined"
     ]
    }
   ],
   "source": [
    "import matplotlib.pyplot as plt\n",
    "import seaborn as sns\n",
    "plt.style.use(\"seaborn\")\n",
    "plt.scatter(body[:, 1], body[:, 3])  # x=body[:, 1], y=body[:, 3]\n",
    "plt.xlabel(\"standing height (cm)\")\n",
    "plt.ylabel(\"upper leg length (cm)\")\n",
    "plt.show()"
   ]
  },
  {
   "cell_type": "code",
   "execution_count": null,
   "id": "27e130b7-a4af-4e80-b2b3-75b615e9dff3",
   "metadata": {},
   "outputs": [],
   "source": [
    "body[np.argmin(body[:, 1]), [1, 3]]"
   ]
  },
  {
   "cell_type": "code",
   "execution_count": null,
   "id": "3c26fe2a-9a34-4682-a1f9-84152b1cf4c9",
   "metadata": {},
   "outputs": [],
   "source": [
    "body[np.argmax(body[:, 3]), [1, 3]]"
   ]
  },
  {
   "cell_type": "code",
   "execution_count": null,
   "id": "c8a0bf60-066c-4c60-a8fa-e5efabb1d01f",
   "metadata": {},
   "outputs": [],
   "source": [
    "plt.scatter(body[:, 1], body[:, 3], c=\"#00000011\")\n",
    "plt.plot(np.mean(body[:, 1]), np.mean(body[:, 3]), \"rX\")  # the centroid\n",
    "plt.xlabel(\"standing height (cm)\")\n",
    "plt.ylabel(\"upper leg length (cm)\")\n",
    "plt.axis(\"equal\")\n",
    "plt.show()"
   ]
  },
  {
   "cell_type": "markdown",
   "id": "2b57d840-ac31-4bd4-a9c1-9a527db5583c",
   "metadata": {},
   "source": [
    "# 3-D"
   ]
  },
  {
   "cell_type": "code",
   "execution_count": null,
   "id": "49458ff7-c35d-4885-be16-f420a6359f52",
   "metadata": {},
   "outputs": [],
   "source": [
    "fig = plt.figure()\n",
    "ax = fig.add_subplot(projection=\"3d\")\n",
    "ax.scatter(body[:, 1], body[:, 3], body[:, 0], color=\"#00000011\")\n",
    "ax.view_init(elev=30, azim=20, vertical_axis=\"y\")\n",
    "ax.set_xlabel(\"standing height (cm)\")\n",
    "ax.set_ylabel(\"upper leg length (cm)\")\n",
    "ax.set_zlabel(\"weight (kg)\")\n",
    "plt.show()"
   ]
  },
  {
   "cell_type": "code",
   "execution_count": null,
   "id": "2d71cd15-13d8-441f-93c2-e1177e0cda0d",
   "metadata": {},
   "outputs": [],
   "source": [
    "from matplotlib import cm\n",
    "plt.scatter(\n",
    "    body[:, 4],   # x\n",
    "    body[:, 5],   # y\n",
    "    c=body[:, 0], # \"z\" - colours\n",
    "    cmap=cm.get_cmap(\"copper\"),  # colour map\n",
    "    alpha=0.5  # opaqueness level between 0 and 1\n",
    ")\n",
    "plt.xlabel(\"arm circumference (cm)\")\n",
    "plt.ylabel(\"hip circumference (cm)\")\n",
    "plt.axis(\"equal\")\n",
    "plt.rcParams[\"axes.grid\"] = False\n",
    "cbar = plt.colorbar()\n",
    "plt.rcParams[\"axes.grid\"] = True\n",
    "cbar.set_label(\"weight (kg)\")\n",
    "plt.show()"
   ]
  },
  {
   "cell_type": "markdown",
   "id": "c8651b96-a546-4c94-96a1-0b0c8cefa53e",
   "metadata": {},
   "source": [
    "# Pairplot"
   ]
  },
  {
   "cell_type": "code",
   "execution_count": null,
   "id": "14eb4be3-17ed-43c1-a883-b5ae57c09fc1",
   "metadata": {},
   "outputs": [],
   "source": [
    "sns.pairplot(data=pd.DataFrame(\n",
    "    body[:, [0, 1, 4, 5]],\n",
    "    columns=[\n",
    "        \"weight (kg)\", \"standing height (cm)\",\n",
    "        \"arm circumference (cm)\", \"hip circumference (cm)\"\n",
    "    ]\n",
    "))\n",
    "plt.show()"
   ]
  }
 ],
 "metadata": {
  "kernelspec": {
   "display_name": "Python 3 (ipykernel)",
   "language": "python",
   "name": "python3"
  },
  "language_info": {
   "codemirror_mode": {
    "name": "ipython",
    "version": 3
   },
   "file_extension": ".py",
   "mimetype": "text/x-python",
   "name": "python",
   "nbconvert_exporter": "python",
   "pygments_lexer": "ipython3",
   "version": "3.9.12"
  }
 },
 "nbformat": 4,
 "nbformat_minor": 5
}
