{
 "cells": [
  {
   "cell_type": "code",
   "execution_count": 1,
   "id": "cf513f36-85a9-4bc7-86c8-40f46a2e7741",
   "metadata": {},
   "outputs": [],
   "source": [
    "import numpy as np\n",
    "import pandas as pd\n",
    "pd.set_option(\"display.notebook_repr_html\", False)  # disable \"rich\" output"
   ]
  },
  {
   "cell_type": "code",
   "execution_count": 3,
   "id": "1ac89625-a3df-4984-af12-183f381648b0",
   "metadata": {},
   "outputs": [
    {
     "data": {
      "text/plain": [
       "          sp_name param_id      value\n",
       "0      Alphington   BPM2.5   7.848758\n",
       "1      Alphington       CO   0.210884\n",
       "2      Alphington      NO2   9.558120\n",
       "3    Altona North      NO2   9.467912\n",
       "4       Churchill   BPM2.5   6.391230\n",
       "5       Dandenong      NO2   9.800705\n",
       "6       Footscray   BPM2.5   7.640948\n",
       "7       Footscray       CO   0.139754\n",
       "8       Footscray      NO2  10.274531\n",
       "9   Geelong South   BPM2.5   6.502762\n",
       "10  Geelong South       CO   0.142473\n",
       "11  Geelong South      NO2   5.681722\n",
       "12  Melbourne CBD   BPM2.5   8.072998\n",
       "13            Moe   BPM2.5   6.427079\n",
       "14   Morwell East   BPM2.5   6.784596\n",
       "15   Morwell East       CO   0.140836\n",
       "16  Morwell South   BPM2.5   6.512849\n",
       "17  Morwell South       CO   0.151979\n",
       "18  Morwell South      NO2   5.124430\n",
       "19      Traralgon   BPM2.5   8.024735\n",
       "20      Traralgon       CO   0.159212\n",
       "21      Traralgon      NO2   5.776333"
      ]
     },
     "execution_count": 3,
     "metadata": {},
     "output_type": "execute_result"
    }
   ],
   "source": [
    "air = pd.read_csv(\"https://raw.githubusercontent.com/gagolews/\" +\n",
    "    \"teaching-data/master/marek/air_quality_2018_means.csv\",\n",
    "    comment=\"#\")\n",
    "air = (\n",
    "    air.\n",
    "    loc[air.param_id.isin([\"BPM2.5\", \"NO2\", \"CO\"]), :].\n",
    "    reset_index(drop=True)\n",
    ")\n",
    "air"
   ]
  },
  {
   "cell_type": "code",
   "execution_count": 4,
   "id": "13865d19-ca59-477b-a05c-8656d4bcb445",
   "metadata": {},
   "outputs": [
    {
     "data": {
      "text/plain": [
       "          sp_name param_id      value\n",
       "8       Footscray      NO2  10.274531\n",
       "5       Dandenong      NO2   9.800705\n",
       "2      Alphington      NO2   9.558120\n",
       "3    Altona North      NO2   9.467912\n",
       "12  Melbourne CBD   BPM2.5   8.072998\n",
       "19      Traralgon   BPM2.5   8.024735\n",
       "0      Alphington   BPM2.5   7.848758\n",
       "6       Footscray   BPM2.5   7.640948\n",
       "14   Morwell East   BPM2.5   6.784596\n",
       "16  Morwell South   BPM2.5   6.512849\n",
       "9   Geelong South   BPM2.5   6.502762\n",
       "13            Moe   BPM2.5   6.427079\n",
       "4       Churchill   BPM2.5   6.391230\n",
       "21      Traralgon      NO2   5.776333\n",
       "11  Geelong South      NO2   5.681722\n",
       "18  Morwell South      NO2   5.124430\n",
       "1      Alphington       CO   0.210884\n",
       "20      Traralgon       CO   0.159212\n",
       "17  Morwell South       CO   0.151979\n",
       "10  Geelong South       CO   0.142473\n",
       "15   Morwell East       CO   0.140836\n",
       "7       Footscray       CO   0.139754"
      ]
     },
     "execution_count": 4,
     "metadata": {},
     "output_type": "execute_result"
    }
   ],
   "source": [
    "air.sort_values(\"value\", ascending=False)"
   ]
  },
  {
   "cell_type": "code",
   "execution_count": 5,
   "id": "05c794ae-7f17-45c1-b783-9bb5b6546c20",
   "metadata": {},
   "outputs": [
    {
     "data": {
      "text/plain": [
       "          sp_name param_id      value\n",
       "12  Melbourne CBD   BPM2.5   8.072998\n",
       "19      Traralgon   BPM2.5   8.024735\n",
       "0      Alphington   BPM2.5   7.848758\n",
       "6       Footscray   BPM2.5   7.640948\n",
       "14   Morwell East   BPM2.5   6.784596\n",
       "16  Morwell South   BPM2.5   6.512849\n",
       "9   Geelong South   BPM2.5   6.502762\n",
       "13            Moe   BPM2.5   6.427079\n",
       "4       Churchill   BPM2.5   6.391230\n",
       "1      Alphington       CO   0.210884\n",
       "20      Traralgon       CO   0.159212\n",
       "17  Morwell South       CO   0.151979\n",
       "10  Geelong South       CO   0.142473\n",
       "15   Morwell East       CO   0.140836\n",
       "7       Footscray       CO   0.139754\n",
       "8       Footscray      NO2  10.274531\n",
       "5       Dandenong      NO2   9.800705\n",
       "2      Alphington      NO2   9.558120\n",
       "3    Altona North      NO2   9.467912\n",
       "21      Traralgon      NO2   5.776333\n",
       "11  Geelong South      NO2   5.681722\n",
       "18  Morwell South      NO2   5.124430"
      ]
     },
     "execution_count": 5,
     "metadata": {},
     "output_type": "execute_result"
    }
   ],
   "source": [
    "air.sort_values([\"param_id\", \"value\"], ascending=[True, False])"
   ]
  },
  {
   "cell_type": "markdown",
   "id": "67704d17-b6cd-44da-ac6b-28d8e517b419",
   "metadata": {},
   "source": [
    "# unstacking"
   ]
  },
  {
   "cell_type": "code",
   "execution_count": 8,
   "id": "af9f3d67-1b0a-4fc9-b666-b10f9fd4a7e7",
   "metadata": {},
   "outputs": [
    {
     "data": {
      "text/plain": [
       "                  value                     \n",
       "param_id         BPM2.5        CO        NO2\n",
       "sp_name                                     \n",
       "Alphington     7.848758  0.210884   9.558120\n",
       "Altona North        NaN       NaN   9.467912\n",
       "Churchill      6.391230       NaN        NaN\n",
       "Dandenong           NaN       NaN   9.800705\n",
       "Footscray      7.640948  0.139754  10.274531\n",
       "Geelong South  6.502762  0.142473   5.681722\n",
       "Melbourne CBD  8.072998       NaN        NaN\n",
       "Moe            6.427079       NaN        NaN\n",
       "Morwell East   6.784596  0.140836        NaN\n",
       "Morwell South  6.512849  0.151979   5.124430\n",
       "Traralgon      8.024735  0.159212   5.776333"
      ]
     },
     "execution_count": 8,
     "metadata": {},
     "output_type": "execute_result"
    }
   ],
   "source": [
    "air.set_index([\"sp_name\",\"param_id\"]).unstack()"
   ]
  },
  {
   "cell_type": "code",
   "execution_count": 9,
   "id": "4dd511f5-bf57-4d60-b13c-ab58122eab29",
   "metadata": {},
   "outputs": [
    {
     "data": {
      "text/plain": [
       "param_id         BPM2.5        CO        NO2\n",
       "sp_name                                     \n",
       "Alphington     7.848758  0.210884   9.558120\n",
       "Altona North        NaN       NaN   9.467912\n",
       "Churchill      6.391230       NaN        NaN\n",
       "Dandenong           NaN       NaN   9.800705\n",
       "Footscray      7.640948  0.139754  10.274531\n",
       "Geelong South  6.502762  0.142473   5.681722\n",
       "Melbourne CBD  8.072998       NaN        NaN\n",
       "Moe            6.427079       NaN        NaN\n",
       "Morwell East   6.784596  0.140836        NaN\n",
       "Morwell South  6.512849  0.151979   5.124430\n",
       "Traralgon      8.024735  0.159212   5.776333"
      ]
     },
     "execution_count": 9,
     "metadata": {},
     "output_type": "execute_result"
    }
   ],
   "source": [
    "air_wide=air.set_index([\"sp_name\",\"param_id\"]).unstack().loc[:,\"value\"]\n",
    "air_wide"
   ]
  },
  {
   "cell_type": "markdown",
   "id": "d8cde2b4-5549-495e-8372-09e0633fe66e",
   "metadata": {},
   "source": [
    "# Stacking"
   ]
  },
  {
   "cell_type": "code",
   "execution_count": 13,
   "id": "d1244d35-4dd4-4de7-bbd2-ea9a0455df7f",
   "metadata": {},
   "outputs": [
    {
     "data": {
      "text/plain": [
       "sp_name        param_id\n",
       "Alphington     BPM2.5       7.848758\n",
       "               CO           0.210884\n",
       "               NO2          9.558120\n",
       "Altona North   NO2          9.467912\n",
       "Churchill      BPM2.5       6.391230\n",
       "Dandenong      NO2          9.800705\n",
       "Footscray      BPM2.5       7.640948\n",
       "               CO           0.139754\n",
       "               NO2         10.274531\n",
       "Geelong South  BPM2.5       6.502762\n",
       "               CO           0.142473\n",
       "               NO2          5.681722\n",
       "Melbourne CBD  BPM2.5       8.072998\n",
       "Moe            BPM2.5       6.427079\n",
       "Morwell East   BPM2.5       6.784596\n",
       "               CO           0.140836\n",
       "Morwell South  BPM2.5       6.512849\n",
       "               CO           0.151979\n",
       "               NO2          5.124430\n",
       "Traralgon      BPM2.5       8.024735\n",
       "               CO           0.159212\n",
       "               NO2          5.776333\n",
       "dtype: float64"
      ]
     },
     "execution_count": 13,
     "metadata": {},
     "output_type": "execute_result"
    }
   ],
   "source": [
    "air_wide.stack()"
   ]
  },
  {
   "cell_type": "code",
   "execution_count": 14,
   "id": "38e3aad6-9667-4e69-982b-677b4064d7ad",
   "metadata": {},
   "outputs": [
    {
     "data": {
      "text/plain": [
       "sp_name        param_id\n",
       "Alphington     BPM2.5       7.848758\n",
       "               CO           0.210884\n",
       "               NO2          9.558120\n",
       "Altona North   NO2          9.467912\n",
       "Churchill      BPM2.5       6.391230\n",
       "Dandenong      NO2          9.800705\n",
       "Footscray      BPM2.5       7.640948\n",
       "               CO           0.139754\n",
       "               NO2         10.274531\n",
       "Geelong South  BPM2.5       6.502762\n",
       "               CO           0.142473\n",
       "               NO2          5.681722\n",
       "Melbourne CBD  BPM2.5       8.072998\n",
       "Moe            BPM2.5       6.427079\n",
       "Morwell East   BPM2.5       6.784596\n",
       "               CO           0.140836\n",
       "Morwell South  BPM2.5       6.512849\n",
       "               CO           0.151979\n",
       "               NO2          5.124430\n",
       "Traralgon      BPM2.5       8.024735\n",
       "               CO           0.159212\n",
       "               NO2          5.776333\n",
       "Name: value, dtype: float64"
      ]
     },
     "execution_count": 14,
     "metadata": {},
     "output_type": "execute_result"
    }
   ],
   "source": [
    "air_wide.stack().rename(\"value\")"
   ]
  },
  {
   "cell_type": "code",
   "execution_count": 15,
   "id": "44ca1d3e-8498-4700-9485-481facfda2ac",
   "metadata": {},
   "outputs": [
    {
     "data": {
      "text/plain": [
       "                            value\n",
       "sp_name       param_id           \n",
       "Alphington    BPM2.5     7.848758\n",
       "              CO         0.210884\n",
       "              NO2        9.558120\n",
       "Altona North  NO2        9.467912\n",
       "Churchill     BPM2.5     6.391230\n",
       "Dandenong     NO2        9.800705\n",
       "Footscray     BPM2.5     7.640948\n",
       "              CO         0.139754\n",
       "              NO2       10.274531\n",
       "Geelong South BPM2.5     6.502762\n",
       "              CO         0.142473\n",
       "              NO2        5.681722\n",
       "Melbourne CBD BPM2.5     8.072998\n",
       "Moe           BPM2.5     6.427079\n",
       "Morwell East  BPM2.5     6.784596\n",
       "              CO         0.140836\n",
       "Morwell South BPM2.5     6.512849\n",
       "              CO         0.151979\n",
       "              NO2        5.124430\n",
       "Traralgon     BPM2.5     8.024735\n",
       "              CO         0.159212\n",
       "              NO2        5.776333"
      ]
     },
     "execution_count": 15,
     "metadata": {},
     "output_type": "execute_result"
    }
   ],
   "source": [
    "air_wide.stack().rename(\"value\").to_frame()"
   ]
  },
  {
   "cell_type": "code",
   "execution_count": 16,
   "id": "8e2b57ff-38c4-4c92-aaea-5a05e735ee2f",
   "metadata": {},
   "outputs": [
    {
     "data": {
      "text/plain": [
       "          sp_name param_id      value\n",
       "0      Alphington   BPM2.5   7.848758\n",
       "1      Alphington       CO   0.210884\n",
       "2      Alphington      NO2   9.558120\n",
       "3    Altona North      NO2   9.467912\n",
       "4       Churchill   BPM2.5   6.391230\n",
       "5       Dandenong      NO2   9.800705\n",
       "6       Footscray   BPM2.5   7.640948\n",
       "7       Footscray       CO   0.139754\n",
       "8       Footscray      NO2  10.274531\n",
       "9   Geelong South   BPM2.5   6.502762\n",
       "10  Geelong South       CO   0.142473\n",
       "11  Geelong South      NO2   5.681722\n",
       "12  Melbourne CBD   BPM2.5   8.072998\n",
       "13            Moe   BPM2.5   6.427079\n",
       "14   Morwell East   BPM2.5   6.784596\n",
       "15   Morwell East       CO   0.140836\n",
       "16  Morwell South   BPM2.5   6.512849\n",
       "17  Morwell South       CO   0.151979\n",
       "18  Morwell South      NO2   5.124430\n",
       "19      Traralgon   BPM2.5   8.024735\n",
       "20      Traralgon       CO   0.159212\n",
       "21      Traralgon      NO2   5.776333"
      ]
     },
     "execution_count": 16,
     "metadata": {},
     "output_type": "execute_result"
    }
   ],
   "source": [
    "air_wide.stack().rename(\"value\").to_frame().reset_index()"
   ]
  },
  {
   "cell_type": "markdown",
   "id": "14588f90-5b80-4f1e-b146-56dd612f5fd0",
   "metadata": {},
   "source": [
    "# Joining/Merging\n"
   ]
  },
  {
   "cell_type": "code",
   "execution_count": 19,
   "id": "0bdaa896-d4ae-4cab-af4b-a1b222cc2597",
   "metadata": {},
   "outputs": [],
   "source": [
    "param = pd.read_csv(\"https://raw.githubusercontent.com/gagolews/\" +\n",
    "    \"teaching-data/master/marek/air_quality_2018_param.csv\",\n",
    "    comment=\"#\")\n",
    "param=param.rename(dict(param_std_unit_of_measure=\"unit\"), axis=1)"
   ]
  },
  {
   "cell_type": "code",
   "execution_count": 20,
   "id": "09a0f23b-8675-4a30-9cb4-0325b224ec37",
   "metadata": {},
   "outputs": [
    {
     "data": {
      "text/plain": [
       "          sp_name param_id      value                   param_name   unit  \\\n",
       "0      Alphington   BPM2.5   7.848758  BAM  Particles < 2.5 micron  ug/m3   \n",
       "1       Churchill   BPM2.5   6.391230  BAM  Particles < 2.5 micron  ug/m3   \n",
       "2       Footscray   BPM2.5   7.640948  BAM  Particles < 2.5 micron  ug/m3   \n",
       "3   Geelong South   BPM2.5   6.502762  BAM  Particles < 2.5 micron  ug/m3   \n",
       "4   Melbourne CBD   BPM2.5   8.072998  BAM  Particles < 2.5 micron  ug/m3   \n",
       "5             Moe   BPM2.5   6.427079  BAM  Particles < 2.5 micron  ug/m3   \n",
       "6    Morwell East   BPM2.5   6.784596  BAM  Particles < 2.5 micron  ug/m3   \n",
       "7   Morwell South   BPM2.5   6.512849  BAM  Particles < 2.5 micron  ug/m3   \n",
       "8       Traralgon   BPM2.5   8.024735  BAM  Particles < 2.5 micron  ug/m3   \n",
       "9      Alphington       CO   0.210884              Carbon Monoxide    ppm   \n",
       "10      Footscray       CO   0.139754              Carbon Monoxide    ppm   \n",
       "11  Geelong South       CO   0.142473              Carbon Monoxide    ppm   \n",
       "12   Morwell East       CO   0.140836              Carbon Monoxide    ppm   \n",
       "13  Morwell South       CO   0.151979              Carbon Monoxide    ppm   \n",
       "14      Traralgon       CO   0.159212              Carbon Monoxide    ppm   \n",
       "15     Alphington      NO2   9.558120             Nitrogen Dioxide    ppb   \n",
       "16   Altona North      NO2   9.467912             Nitrogen Dioxide    ppb   \n",
       "17      Dandenong      NO2   9.800705             Nitrogen Dioxide    ppb   \n",
       "18      Footscray      NO2  10.274531             Nitrogen Dioxide    ppb   \n",
       "19  Geelong South      NO2   5.681722             Nitrogen Dioxide    ppb   \n",
       "20  Morwell South      NO2   5.124430             Nitrogen Dioxide    ppb   \n",
       "21      Traralgon      NO2   5.776333             Nitrogen Dioxide    ppb   \n",
       "\n",
       "   param_short_name  \n",
       "0             PM2.5  \n",
       "1             PM2.5  \n",
       "2             PM2.5  \n",
       "3             PM2.5  \n",
       "4             PM2.5  \n",
       "5             PM2.5  \n",
       "6             PM2.5  \n",
       "7             PM2.5  \n",
       "8             PM2.5  \n",
       "9                CO  \n",
       "10               CO  \n",
       "11               CO  \n",
       "12               CO  \n",
       "13               CO  \n",
       "14               CO  \n",
       "15              NO2  \n",
       "16              NO2  \n",
       "17              NO2  \n",
       "18              NO2  \n",
       "19              NO2  \n",
       "20              NO2  \n",
       "21              NO2  "
      ]
     },
     "execution_count": 20,
     "metadata": {},
     "output_type": "execute_result"
    }
   ],
   "source": [
    "pd.merge(air,param, on =\"param_id\")"
   ]
  },
  {
   "cell_type": "markdown",
   "id": "4f31aeaf-6844-41d5-91e4-d45a5681b142",
   "metadata": {},
   "source": [
    "# Left, Right, Outer join"
   ]
  },
  {
   "cell_type": "code",
   "execution_count": 21,
   "id": "e3bed2b5-30d7-4cf8-b0e2-e707ce0a1d39",
   "metadata": {},
   "outputs": [
    {
     "data": {
      "text/plain": [
       "    x   y\n",
       "0  a0  b0\n",
       "1  a1  b1\n",
       "2  a2  b2\n",
       "3  a3  b3"
      ]
     },
     "execution_count": 21,
     "metadata": {},
     "output_type": "execute_result"
    }
   ],
   "source": [
    "A = pd.DataFrame({\n",
    "    \"x\": [\"a0\", \"a1\", \"a2\", \"a3\"],\n",
    "    \"y\": [\"b0\", \"b1\", \"b2\", \"b3\"]\n",
    "})\n",
    "A"
   ]
  },
  {
   "cell_type": "code",
   "execution_count": 22,
   "id": "86352a6c-b1ac-45ba-9767-7647cfd9a44e",
   "metadata": {},
   "outputs": [
    {
     "data": {
      "text/plain": [
       "    x   z\n",
       "0  a0  c0\n",
       "1  a2  c1\n",
       "2  a2  c2\n",
       "3  a4  c3"
      ]
     },
     "execution_count": 22,
     "metadata": {},
     "output_type": "execute_result"
    }
   ],
   "source": [
    "B = pd.DataFrame({\n",
    "    \"x\": [\"a0\", \"a2\", \"a2\", \"a4\"],\n",
    "    \"z\": [\"c0\", \"c1\", \"c2\", \"c3\"]\n",
    "})\n",
    "B"
   ]
  },
  {
   "cell_type": "code",
   "execution_count": 23,
   "id": "954a0981-4e9c-4fa7-8a51-25a204108c66",
   "metadata": {},
   "outputs": [
    {
     "data": {
      "text/plain": [
       "    x   y   z\n",
       "0  a0  b0  c0\n",
       "1  a2  b2  c1\n",
       "2  a2  b2  c2"
      ]
     },
     "execution_count": 23,
     "metadata": {},
     "output_type": "execute_result"
    }
   ],
   "source": [
    "pd.merge(A, B, on=\"x\") #join to return common data"
   ]
  },
  {
   "cell_type": "code",
   "execution_count": 24,
   "id": "5ff181cf-2279-4895-8b26-0032c63e9645",
   "metadata": {},
   "outputs": [
    {
     "data": {
      "text/plain": [
       "    x   y    z\n",
       "0  a0  b0   c0\n",
       "1  a1  b1  NaN\n",
       "2  a2  b2   c1\n",
       "3  a2  b2   c2\n",
       "4  a3  b3  NaN"
      ]
     },
     "execution_count": 24,
     "metadata": {},
     "output_type": "execute_result"
    }
   ],
   "source": [
    "pd.merge(A, B, how=\"left\", on=\"x\") #left outer join"
   ]
  },
  {
   "cell_type": "code",
   "execution_count": 25,
   "id": "7f0f040d-8edb-45e0-8d1b-989b2d0d215f",
   "metadata": {},
   "outputs": [
    {
     "data": {
      "text/plain": [
       "    x    y   z\n",
       "0  a0   b0  c0\n",
       "1  a2   b2  c1\n",
       "2  a2   b2  c2\n",
       "3  a4  NaN  c3"
      ]
     },
     "execution_count": 25,
     "metadata": {},
     "output_type": "execute_result"
    }
   ],
   "source": [
    "pd.merge(A, B, how=\"right\", on=\"x\")#right outer join"
   ]
  },
  {
   "cell_type": "code",
   "execution_count": 26,
   "id": "5423478d-2216-43fe-a95b-2e914f129e9d",
   "metadata": {},
   "outputs": [
    {
     "data": {
      "text/plain": [
       "    x    y    z\n",
       "0  a0   b0   c0\n",
       "1  a1   b1  NaN\n",
       "2  a2   b2   c1\n",
       "3  a2   b2   c2\n",
       "4  a3   b3  NaN\n",
       "5  a4  NaN   c3"
      ]
     },
     "execution_count": 26,
     "metadata": {},
     "output_type": "execute_result"
    }
   ],
   "source": [
    "pd.merge(A, B, how=\"outer\", on=\"x\")#full outer join"
   ]
  },
  {
   "cell_type": "code",
   "execution_count": null,
   "id": "d504f56c-1857-48e7-957a-a7cbd2b4d46e",
   "metadata": {},
   "outputs": [],
   "source": []
  }
 ],
 "metadata": {
  "kernelspec": {
   "display_name": "Python 3 (ipykernel)",
   "language": "python",
   "name": "python3"
  },
  "language_info": {
   "codemirror_mode": {
    "name": "ipython",
    "version": 3
   },
   "file_extension": ".py",
   "mimetype": "text/x-python",
   "name": "python",
   "nbconvert_exporter": "python",
   "pygments_lexer": "ipython3",
   "version": "3.9.12"
  }
 },
 "nbformat": 4,
 "nbformat_minor": 5
}
