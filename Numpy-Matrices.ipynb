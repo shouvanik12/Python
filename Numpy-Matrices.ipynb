{
 "cells": [
  {
   "cell_type": "code",
   "execution_count": 3,
   "id": "6baf5ea8-73d8-4cf8-9a99-643b5094ebc2",
   "metadata": {},
   "outputs": [],
   "source": [
    "import numpy as np"
   ]
  },
  {
   "cell_type": "code",
   "execution_count": null,
   "id": "229fbc5f-ef3e-4342-8748-c1de21d6b66d",
   "metadata": {},
   "outputs": [],
   "source": [
    "body[:6, :]  # 6 first rows, all columns"
   ]
  },
  {
   "cell_type": "code",
   "execution_count": null,
   "id": "83f18511-87d3-4326-ad7f-709d6c842713",
   "metadata": {},
   "outputs": [],
   "source": [
    "type(body)"
   ]
  },
  {
   "cell_type": "code",
   "execution_count": null,
   "id": "ea51b695-3cef-4670-bc27-a6931301d402",
   "metadata": {},
   "outputs": [],
   "source": [
    "numpy.ndarray"
   ]
  },
  {
   "cell_type": "code",
   "execution_count": null,
   "id": "c3dba24c-91d2-4024-b9c4-db30a8820d54",
   "metadata": {},
   "outputs": [],
   "source": [
    "body.ndim"
   ]
  },
  {
   "cell_type": "code",
   "execution_count": null,
   "id": "15953ad7-e571-48cd-8a68-f019e706c11c",
   "metadata": {},
   "outputs": [],
   "source": [
    "body.shape"
   ]
  },
  {
   "cell_type": "code",
   "execution_count": null,
   "id": "e6a2d948-a788-49e5-9f8a-e00b19bccf7c",
   "metadata": {},
   "outputs": [],
   "source": [
    "body.shape[0]##Number of rows"
   ]
  },
  {
   "cell_type": "code",
   "execution_count": null,
   "id": "e007127d-8a4d-41f2-9056-34a453028f45",
   "metadata": {},
   "outputs": [],
   "source": [
    "body.shape[1]##Number of columns"
   ]
  },
  {
   "cell_type": "code",
   "execution_count": null,
   "id": "8794de23-6b3e-414b-8479-00e9d5525e66",
   "metadata": {},
   "outputs": [],
   "source": [
    "np.array([\n",
    "    [ 1,  2,  3,  4 ],\n",
    "    [ 5,  6,  7,  8 ],\n",
    "    [ 9, 10, 11, 12 ]\n",
    "])##2 dimensional array"
   ]
  },
  {
   "cell_type": "code",
   "execution_count": null,
   "id": "b038dee4-0354-4e34-b60d-ab3f1aabe4b8",
   "metadata": {},
   "outputs": [],
   "source": [
    "np.array([ [1], [2], [3] ])#3 X 1 matrix"
   ]
  },
  {
   "cell_type": "code",
   "execution_count": null,
   "id": "ab42227b-bdc7-4043-88a9-26b417e196f8",
   "metadata": {},
   "outputs": [],
   "source": [
    "np.array([ [1, 2, 3, 4] ]) #1 X 4 matrix"
   ]
  },
  {
   "cell_type": "code",
   "execution_count": null,
   "id": "21741d00-1d4a-41c5-87ca-24ab6940c791",
   "metadata": {},
   "outputs": [],
   "source": [
    "np.repeat([[1, 2, 3]], 4, axis=0)# 4 rows 4 X 3 matrix"
   ]
  },
  {
   "cell_type": "code",
   "execution_count": null,
   "id": "98970d92-a807-48c7-92f0-b5d32f196bd4",
   "metadata": {},
   "outputs": [],
   "source": [
    "np.repeat([[1], [2], [3], [4]], 3, axis=1) #repeat column wise"
   ]
  },
  {
   "cell_type": "code",
   "execution_count": null,
   "id": "e78bbcf3-3338-41b5-bc13-e60481a559e4",
   "metadata": {},
   "outputs": [],
   "source": [
    "#columns stack"
   ]
  },
  {
   "cell_type": "code",
   "execution_count": null,
   "id": "b2c95416-b216-4945-845c-c914f23f8b8f",
   "metadata": {},
   "outputs": [],
   "source": [
    "np.column_stack(([10, 20], [30, 40], [50, 60]))"
   ]
  },
  {
   "cell_type": "code",
   "execution_count": null,
   "id": "e134ddd7-d1c7-426c-9b76-1d22a35a2477",
   "metadata": {},
   "outputs": [],
   "source": [
    "#row stack"
   ]
  },
  {
   "cell_type": "code",
   "execution_count": null,
   "id": "29ab83a8-fce2-4d35-bf2b-f1756453bc23",
   "metadata": {},
   "outputs": [],
   "source": [
    "np.row_stack(([10, 20], [30, 40], [50, 60]))"
   ]
  },
  {
   "cell_type": "code",
   "execution_count": null,
   "id": "734a6e0b-dfbd-4ad5-bb79-dfb91ebff082",
   "metadata": {},
   "outputs": [],
   "source": [
    "np.column_stack((\n",
    "    np.row_stack(([10, 20], [30, 40], [50, 60])),\n",
    "    [70, 80, 90]\n",
    "))"
   ]
  },
  {
   "cell_type": "code",
   "execution_count": 1,
   "id": "23cd01f5-2495-49d9-8730-79651b3dad04",
   "metadata": {},
   "outputs": [],
   "source": [
    "#reshape"
   ]
  },
  {
   "cell_type": "code",
   "execution_count": 4,
   "id": "fdb115cb-f11b-47e3-af79-c82f44ae92df",
   "metadata": {},
   "outputs": [],
   "source": [
    "A = np.array([\n",
    "    [ 1,  2,  3,  4 ],\n",
    "    [ 5,  6,  7,  8 ],\n",
    "    [ 9, 10, 11, 12 ]\n",
    "])#3 X 4"
   ]
  },
  {
   "cell_type": "code",
   "execution_count": null,
   "id": "0a122488-f3b3-4052-828e-110f8131a660",
   "metadata": {},
   "outputs": [],
   "source": [
    "A.size  # total number of elements"
   ]
  },
  {
   "cell_type": "code",
   "execution_count": null,
   "id": "f2a7897f-7f98-42b6-9bd2-409fd2c88940",
   "metadata": {},
   "outputs": [],
   "source": [
    "A.ravel()  # the underlying array"
   ]
  },
  {
   "cell_type": "code",
   "execution_count": 5,
   "id": "3383bcd8-fa12-4e50-a038-73ba86d8ff82",
   "metadata": {},
   "outputs": [
    {
     "data": {
      "text/plain": [
       "array([[ 1,  2,  3],\n",
       "       [ 4,  5,  6],\n",
       "       [ 7,  8,  9],\n",
       "       [10, 11, 12]])"
      ]
     },
     "execution_count": 5,
     "metadata": {},
     "output_type": "execute_result"
    }
   ],
   "source": [
    "A.shape = (4, 3)  # a tuple of length 2\n",
    "A"
   ]
  },
  {
   "cell_type": "code",
   "execution_count": 6,
   "id": "fcd5e0f3-d7ce-4403-81bb-a18c965a3c77",
   "metadata": {},
   "outputs": [
    {
     "data": {
      "text/plain": [
       "array([ 1,  2,  3,  4,  5,  6,  7,  8,  9, 10, 11, 12])"
      ]
     },
     "execution_count": 6,
     "metadata": {},
     "output_type": "execute_result"
    }
   ],
   "source": [
    "A.shape = (12, )  # a tuple of length 1\n",
    "A"
   ]
  },
  {
   "cell_type": "code",
   "execution_count": 9,
   "id": "223ac534-2457-47ac-8b35-984dfb16c43f",
   "metadata": {},
   "outputs": [
    {
     "data": {
      "text/plain": [
       "array([[ 1,  2,  3,  4,  5,  6],\n",
       "       [ 7,  8,  9, 10, 11, 12]])"
      ]
     },
     "execution_count": 9,
     "metadata": {},
     "output_type": "execute_result"
    }
   ],
   "source": [
    "A.reshape(-1, 6)"
   ]
  },
  {
   "cell_type": "code",
   "execution_count": 10,
   "id": "37c3465a-1619-4839-9c78-c2a73b2aa4f3",
   "metadata": {},
   "outputs": [
    {
     "data": {
      "text/plain": [
       "array([[ 1,  2,  3,  4,  5,  6],\n",
       "       [ 7,  8,  9, 10, 11, 12]])"
      ]
     },
     "execution_count": 10,
     "metadata": {},
     "output_type": "execute_result"
    }
   ],
   "source": [
    "A.shape =(-1, 6)\n",
    "A"
   ]
  },
  {
   "cell_type": "code",
   "execution_count": 11,
   "id": "db0bc6b8-e624-4e6d-9202-9c5343fe9140",
   "metadata": {},
   "outputs": [
    {
     "data": {
      "text/plain": [
       "array([[0. , 0.1, 0.2, 0.3, 0.4],\n",
       "       [0.5, 0.6, 0.7, 0.8, 0.9],\n",
       "       [1. , 1.1, 1.2, 1.3, 1.4],\n",
       "       [1.5, 1.6, 1.7, 1.8, 1.9]])"
      ]
     },
     "execution_count": 11,
     "metadata": {},
     "output_type": "execute_result"
    }
   ],
   "source": [
    "A = np.linspace(0, 2, 20, endpoint=False).reshape(4, -1)\n",
    "A"
   ]
  },
  {
   "cell_type": "code",
   "execution_count": 12,
   "id": "d918d9c3-4e3b-4a60-9e37-296075ae31a3",
   "metadata": {},
   "outputs": [
    {
     "data": {
      "text/plain": [
       "array([[0. , 0.5, 1. , 1.5],\n",
       "       [0.1, 0.6, 1.1, 1.6],\n",
       "       [0.2, 0.7, 1.2, 1.7],\n",
       "       [0.3, 0.8, 1.3, 1.8],\n",
       "       [0.4, 0.9, 1.4, 1.9]])"
      ]
     },
     "execution_count": 12,
     "metadata": {},
     "output_type": "execute_result"
    }
   ],
   "source": [
    "A.T  # transpose"
   ]
  },
  {
   "cell_type": "code",
   "execution_count": null,
   "id": "e7845f3a-60cd-4dd5-8606-5b0e623ba27b",
   "metadata": {},
   "outputs": [],
   "source": []
  }
 ],
 "metadata": {
  "kernelspec": {
   "display_name": "Python 3 (ipykernel)",
   "language": "python",
   "name": "python3"
  },
  "language_info": {
   "codemirror_mode": {
    "name": "ipython",
    "version": 3
   },
   "file_extension": ".py",
   "mimetype": "text/x-python",
   "name": "python",
   "nbconvert_exporter": "python",
   "pygments_lexer": "ipython3",
   "version": "3.9.12"
  }
 },
 "nbformat": 4,
 "nbformat_minor": 5
}
