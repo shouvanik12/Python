{
 "cells": [
  {
   "cell_type": "markdown",
   "id": "07dd88c1-51d3-4e28-b9a4-eafe1b8fe424",
   "metadata": {},
   "source": [
    "measures of location\n",
    "- AM, Avg, GM, HM\n",
    "\n",
    "\n",
    "measures of dispersion\n",
    "\n",
    "measures of shape"
   ]
  },
  {
   "cell_type": "markdown",
   "id": "c2a2c771-e92c-4d62-a09e-3fea1adf6fa5",
   "metadata": {},
   "source": [
    "np.mean\n",
    "np.median\n",
    "np.quantile(abc[0.0, 0.25, 0.5, 0.75, 1])"
   ]
  },
  {
   "cell_type": "markdown",
   "id": "06ab0f22-ba1a-4880-8757-f65b5efdcc9c",
   "metadata": {},
   "source": [
    "### measures of dispersion, inter quarantile range\n",
    "\n",
    "$$\\mathrm{IQR} = q_{0.75}-q_{0.25} = Q_3 - Q_1$$"
   ]
  },
  {
   "cell_type": "markdown",
   "id": "1016415f-bd56-45a9-b536-a62a9cda378a",
   "metadata": {},
   "source": [
    "### IQR\n",
    "np.quantile(abc,0.75) - np.quantile(abc, 0.25)"
   ]
  },
  {
   "cell_type": "markdown",
   "id": "329601a2-338a-49cc-8f69-5e0700596aad",
   "metadata": {},
   "source": [
    "### STD\n",
    "np.std(abc, ddof=1) -- ddof - data degree of freedom (n-1) in the denominator"
   ]
  },
  {
   "cell_type": "markdown",
   "id": "51ba6139-81be-4d06-9243-4bd36fb8e320",
   "metadata": {},
   "source": [
    "## BOX Plot\n",
    "\n",
    "plt.subplot(211)-- 2rows, 1 column, 1st plot\n",
    "\n",
    "sns.boxplot(data = abc, orient = \"h\")-- horizontal\n",
    "\n",
    "plt.title('abc')\n",
    "\n",
    "plt.show"
   ]
  },
  {
   "cell_type": "markdown",
   "id": "00861b13-66f2-48e0-9cb8-5f2938852ab4",
   "metadata": {},
   "source": [
    "## measures of shape\n",
    "## skewness\n",
    "\n",
    "import scipy.stats\n",
    "scipy.stats.skew(abc)\n",
    "\n",
    "### skewness definition\n",
    "skewness ~ 0 => symmetric behaviour\n",
    "skewenes >=1 => Right skewed\n",
    "skewenes <=1 => Left Skewed"
   ]
  }
 ],
 "metadata": {
  "kernelspec": {
   "display_name": "Python 3 (ipykernel)",
   "language": "python",
   "name": "python3"
  },
  "language_info": {
   "codemirror_mode": {
    "name": "ipython",
    "version": 3
   },
   "file_extension": ".py",
   "mimetype": "text/x-python",
   "name": "python",
   "nbconvert_exporter": "python",
   "pygments_lexer": "ipython3",
   "version": "3.9.12"
  }
 },
 "nbformat": 4,
 "nbformat_minor": 5
}
