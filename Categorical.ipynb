{
 "cells": [
  {
   "cell_type": "code",
   "execution_count": 1,
   "id": "dc92f8fb-def5-45e3-8fc8-b42e6c627959",
   "metadata": {},
   "outputs": [],
   "source": [
    "#Categorical Variable"
   ]
  },
  {
   "cell_type": "code",
   "execution_count": 3,
   "id": "f09353b0-2ae7-4f01-8994-47aa60fb1e7a",
   "metadata": {},
   "outputs": [],
   "source": [
    "import numpy as np"
   ]
  },
  {
   "cell_type": "code",
   "execution_count": 9,
   "id": "b42db68d-0173-4ef2-8039-5743f051b1bf",
   "metadata": {},
   "outputs": [
    {
     "data": {
      "text/plain": [
       "array(['KE', 'KE', 'KE', 'ET', 'KE', 'KE', 'ET', 'MA', 'PL', 'PL', 'IL',\n",
       "       'PL', 'KE', 'KE', 'PL', 'PL'], dtype='<U2')"
      ]
     },
     "execution_count": 9,
     "metadata": {},
     "output_type": "execute_result"
    }
   ],
   "source": [
    "import numpy as np\n",
    "countries = np.loadtxt(\"https://raw.githubusercontent.com/gagolews/\" +\n",
    "    \"teaching-data/master/marek/37_pzu_warsaw_marathon_country.txt\",\n",
    "    dtype=\"str\")\n",
    "x = countries[:16]\n",
    "x"
   ]
  },
  {
   "cell_type": "code",
   "execution_count": 10,
   "id": "d4bca6ab-2e09-47b2-918e-aec01751263d",
   "metadata": {},
   "outputs": [
    {
     "data": {
      "text/plain": [
       "array(['ET', 'IL', 'KE', 'MA', 'PL'], dtype='<U2')"
      ]
     },
     "execution_count": 10,
     "metadata": {},
     "output_type": "execute_result"
    }
   ],
   "source": [
    "np.unique(x)"
   ]
  },
  {
   "cell_type": "code",
   "execution_count": 11,
   "id": "90a6043c-24b0-4ef4-b8e1-160f7a98aec3",
   "metadata": {},
   "outputs": [
    {
     "data": {
      "text/plain": [
       "(array(['ET', 'IL', 'KE', 'MA', 'PL'], dtype='<U2'),\n",
       " array([2, 2, 2, 0, 2, 2, 0, 3, 4, 4, 1, 4, 2, 2, 4, 4], dtype=int64))"
      ]
     },
     "execution_count": 11,
     "metadata": {},
     "output_type": "execute_result"
    }
   ],
   "source": [
    "np.unique(x, return_inverse = True)"
   ]
  },
  {
   "cell_type": "code",
   "execution_count": 12,
   "id": "99735161-609b-499a-be85-e2e0b346cd6d",
   "metadata": {},
   "outputs": [],
   "source": [
    "categories, codes = np.unique(x, return_inverse = True)"
   ]
  },
  {
   "cell_type": "code",
   "execution_count": 24,
   "id": "ad0c0e88-a856-4207-ad4e-1949f4d63373",
   "metadata": {},
   "outputs": [
    {
     "data": {
      "text/plain": [
       "(array(['ET', 'IL', 'KE', 'MA', 'PL'], dtype='<U2'),\n",
       " array([2, 1, 7, 1, 5], dtype=int64))"
      ]
     },
     "execution_count": 24,
     "metadata": {},
     "output_type": "execute_result"
    }
   ],
   "source": [
    "np.unique(x, return_counts= True)"
   ]
  },
  {
   "cell_type": "code",
   "execution_count": 25,
   "id": "96eb5bff-f742-4c1d-af3a-108c0b06e32c",
   "metadata": {},
   "outputs": [],
   "source": [
    "categories,counts = np.unique(x, return_counts= True)"
   ]
  },
  {
   "cell_type": "code",
   "execution_count": 27,
   "id": "75677231-98d5-4e37-be55-dc5787aacea7",
   "metadata": {},
   "outputs": [
    {
     "data": {
      "text/plain": [
       "array([2, 1, 7, 1, 5], dtype=int64)"
      ]
     },
     "execution_count": 27,
     "metadata": {},
     "output_type": "execute_result"
    }
   ],
   "source": [
    "counts"
   ]
  },
  {
   "cell_type": "code",
   "execution_count": 28,
   "id": "3ec6f8c5-3b0a-4f7d-a124-f5c50055c091",
   "metadata": {},
   "outputs": [
    {
     "data": {
      "text/plain": [
       "array([2, 1, 7, 1, 5], dtype=int64)"
      ]
     },
     "execution_count": 28,
     "metadata": {},
     "output_type": "execute_result"
    }
   ],
   "source": [
    "np.bincount(codes)"
   ]
  },
  {
   "cell_type": "raw",
   "id": "93a6f21b-c7dc-4f47-bba0-0f2defbd903f",
   "metadata": {},
   "source": [
    "np.bincount(codes)/np.sum(counts)*100"
   ]
  },
  {
   "cell_type": "code",
   "execution_count": 26,
   "id": "98c65b81-e411-4614-925c-8f59a756d277",
   "metadata": {},
   "outputs": [
    {
     "data": {
      "text/plain": [
       "array(['ET', 'IL', 'KE', 'MA', 'PL'], dtype='<U2')"
      ]
     },
     "execution_count": 26,
     "metadata": {},
     "output_type": "execute_result"
    }
   ],
   "source": [
    "categories"
   ]
  },
  {
   "cell_type": "code",
   "execution_count": 14,
   "id": "1e4dc477-e7f0-4cb8-b9d0-fc3df8e44409",
   "metadata": {},
   "outputs": [
    {
     "data": {
      "text/plain": [
       "array([2, 2, 2, 0, 2, 2, 0, 3, 4, 4, 1, 4, 2, 2, 4, 4], dtype=int64)"
      ]
     },
     "execution_count": 14,
     "metadata": {},
     "output_type": "execute_result"
    }
   ],
   "source": [
    "codes"
   ]
  },
  {
   "cell_type": "code",
   "execution_count": 15,
   "id": "cbb756bf-2e14-4866-bd4b-b06fa6631584",
   "metadata": {},
   "outputs": [],
   "source": [
    "n= len(x)"
   ]
  },
  {
   "cell_type": "code",
   "execution_count": 16,
   "id": "9f5d4267-4c92-42f3-bf64-3c4a418c56e1",
   "metadata": {},
   "outputs": [],
   "source": [
    "k = len(categories)"
   ]
  },
  {
   "cell_type": "code",
   "execution_count": 17,
   "id": "00b9f3a8-03f6-471e-bea9-1b2d32f84b19",
   "metadata": {},
   "outputs": [
    {
     "data": {
      "text/plain": [
       "(16, 5)"
      ]
     },
     "execution_count": 17,
     "metadata": {},
     "output_type": "execute_result"
    }
   ],
   "source": [
    "n, k"
   ]
  },
  {
   "cell_type": "code",
   "execution_count": 18,
   "id": "f1baa5f8-303e-4071-b24d-abcf85c20128",
   "metadata": {},
   "outputs": [
    {
     "data": {
      "text/plain": [
       "array(['KE', 'KE', 'KE', 'ET', 'KE', 'KE', 'ET', 'MA', 'PL', 'PL', 'IL',\n",
       "       'PL', 'KE', 'KE', 'PL', 'PL'], dtype='<U2')"
      ]
     },
     "execution_count": 18,
     "metadata": {},
     "output_type": "execute_result"
    }
   ],
   "source": [
    "categories[codes]"
   ]
  },
  {
   "cell_type": "code",
   "execution_count": 20,
   "id": "f4712ba0-6f33-4e7a-81b2-f0dea71a4b43",
   "metadata": {},
   "outputs": [
    {
     "data": {
      "text/plain": [
       "array(['Kenya', 'Kenya', 'Kenya', 'Ethopia', 'Kenya', 'Kenya', 'Ethopia',\n",
       "       'Morroco', 'Poland', 'Poland', 'Israel', 'Poland', 'Kenya',\n",
       "       'Kenya', 'Poland', 'Poland'], dtype='<U7')"
      ]
     },
     "execution_count": 20,
     "metadata": {},
     "output_type": "execute_result"
    }
   ],
   "source": [
    "np.array(['Ethopia', 'Israel', 'Kenya', 'Morroco', 'Poland'])[codes]"
   ]
  },
  {
   "cell_type": "code",
   "execution_count": 21,
   "id": "12fcf04e-5a6e-4b18-bcb2-3ae773c2916c",
   "metadata": {},
   "outputs": [
    {
     "data": {
      "text/plain": [
       "array([129.32, 130.75, 130.97, 134.17, 134.68, 135.97, 139.88, 143.2 ,\n",
       "       145.22, 145.92, 146.83, 147.8 , 149.65, 149.88, 152.65, 152.88])"
      ]
     },
     "execution_count": 21,
     "metadata": {},
     "output_type": "execute_result"
    }
   ],
   "source": [
    "marathon = np.loadtxt(\"https://raw.githubusercontent.com/gagolews/\" +\n",
    "    \"teaching-data/master/marek/37_pzu_warsaw_marathon_mins.txt\")\n",
    "t = marathon[:16]\n",
    "t"
   ]
  },
  {
   "cell_type": "code",
   "execution_count": 23,
   "id": "dd8b5d2e-74b4-4899-8bf7-8d592260cc9d",
   "metadata": {},
   "outputs": [
    {
     "data": {
      "text/plain": [
       "array([0, 1, 1, 1, 1, 1, 1, 2, 2, 2, 2, 2, 2, 2, 3, 3], dtype=int64)"
      ]
     },
     "execution_count": 23,
     "metadata": {},
     "output_type": "execute_result"
    }
   ],
   "source": [
    "#(-inf, 130), (130, 140), (140, 150), (150, inf)\n",
    "#     0             1          2             3\n",
    "bins = [130, 140, 150]\n",
    "np.searchsorted(bins, t)"
   ]
  },
  {
   "cell_type": "code",
   "execution_count": 31,
   "id": "aa970f42-56c4-47ae-82c9-ae8d7b2fcfa3",
   "metadata": {},
   "outputs": [
    {
     "data": {
      "image/png": "[encoded data removed]",
      "text/plain": [
       "<Figure size 576x396 with 1 Axes>"
      ]
     },
     "metadata": {},
     "output_type": "display_data"
    }
   ],
   "source": [
    "import matplotlib.pyplot as plt\n",
    "plt.style.use(\"seaborn\")\n",
    "where = np.arange(len(categories))\n",
    "plt.bar(where, height = counts)\n",
    "plt.xticks(where, categories)\n",
    "plt.show()"
   ]
  },
  {
   "cell_type": "code",
   "execution_count": 32,
   "id": "be11e645-2170-4bbf-8926-91c74fd7c0b4",
   "metadata": {},
   "outputs": [
    {
     "data": {
      "text/plain": [
       "(array(['ET', 'IL', 'KE', 'MA', 'PL'], dtype='<U2'),\n",
       " array([2, 1, 7, 1, 5], dtype=int64))"
      ]
     },
     "execution_count": 32,
     "metadata": {},
     "output_type": "execute_result"
    }
   ],
   "source": [
    "categories, counts"
   ]
  },
  {
   "cell_type": "code",
   "execution_count": 33,
   "id": "e3967b4b-db68-48a0-98b1-3ff8709def35",
   "metadata": {},
   "outputs": [
    {
     "data": {
      "text/plain": [
       "2"
      ]
     },
     "execution_count": 33,
     "metadata": {},
     "output_type": "execute_result"
    }
   ],
   "source": [
    "np.argmax(counts)"
   ]
  },
  {
   "cell_type": "code",
   "execution_count": 34,
   "id": "280e0c51-bc52-4202-9243-46c7d3a428fb",
   "metadata": {},
   "outputs": [
    {
     "data": {
      "text/plain": [
       "'KE'"
      ]
     },
     "execution_count": 34,
     "metadata": {},
     "output_type": "execute_result"
    }
   ],
   "source": [
    "categories[np.argmax(counts)]"
   ]
  },
  {
   "cell_type": "code",
   "execution_count": 35,
   "id": "703ac2ef-43d9-4833-9e41-0c3f674f617e",
   "metadata": {},
   "outputs": [
    {
     "data": {
      "text/plain": [
       "array([1, 0, 1, 1, 0])"
      ]
     },
     "execution_count": 35,
     "metadata": {},
     "output_type": "execute_result"
    }
   ],
   "source": [
    "np.array([True, False, True, True, False]).astype(int)"
   ]
  },
  {
   "cell_type": "code",
   "execution_count": 36,
   "id": "a9a07894-a1c4-442a-92d6-c1829a9a5e91",
   "metadata": {},
   "outputs": [
    {
     "data": {
      "text/plain": [
       "array([ True,  True,  True, False, False,  True])"
      ]
     },
     "execution_count": 36,
     "metadata": {},
     "output_type": "execute_result"
    }
   ],
   "source": [
    "np.array([23, -1.4, -1000, 0.00, 0, 32.234]).astype(bool)"
   ]
  },
  {
   "cell_type": "code",
   "execution_count": 38,
   "id": "a84af3fe-ab7a-49d2-b322-cea2a8523206",
   "metadata": {},
   "outputs": [
    {
     "data": {
      "text/plain": [
       "array([ True,  True,  True, False,  True,  True, False, False, False,\n",
       "       False, False, False,  True,  True, False, False])"
      ]
     },
     "execution_count": 38,
     "metadata": {},
     "output_type": "execute_result"
    }
   ],
   "source": [
    "x == \"KE\""
   ]
  },
  {
   "cell_type": "code",
   "execution_count": 39,
   "id": "b75b718c-79c9-40e9-adcb-100378ded7e6",
   "metadata": {},
   "outputs": [
    {
     "data": {
      "text/plain": [
       "7"
      ]
     },
     "execution_count": 39,
     "metadata": {},
     "output_type": "execute_result"
    }
   ],
   "source": [
    "np.sum(x == \"KE\")"
   ]
  },
  {
   "cell_type": "code",
   "execution_count": 41,
   "id": "47daa6d0-6bd1-480d-9cd0-a137b138f0a8",
   "metadata": {},
   "outputs": [
    {
     "data": {
      "text/plain": [
       "0.4375"
      ]
     },
     "execution_count": 41,
     "metadata": {},
     "output_type": "execute_result"
    }
   ],
   "source": [
    "np.mean(x == \"KE\")"
   ]
  },
  {
   "cell_type": "code",
   "execution_count": 42,
   "id": "87c0a796-4ac0-4a1a-9d25-107c84b80139",
   "metadata": {},
   "outputs": [
    {
     "data": {
      "text/plain": [
       "False"
      ]
     },
     "execution_count": 42,
     "metadata": {},
     "output_type": "execute_result"
    }
   ],
   "source": [
    "np.all(x == \"KE\")"
   ]
  },
  {
   "cell_type": "code",
   "execution_count": 43,
   "id": "c7952915-46f5-43da-bcba-d1448ecd9821",
   "metadata": {},
   "outputs": [
    {
     "data": {
      "text/plain": [
       "True"
      ]
     },
     "execution_count": 43,
     "metadata": {},
     "output_type": "execute_result"
    }
   ],
   "source": [
    "np.any(x == \"KE\")"
   ]
  }
 ],
 "metadata": {
  "kernelspec": {
   "display_name": "Python 3 (ipykernel)",
   "language": "python",
   "name": "python3"
  },
  "language_info": {
   "codemirror_mode": {
    "name": "ipython",
    "version": 3
   },
   "file_extension": ".py",
   "mimetype": "text/x-python",
   "name": "python",
   "nbconvert_exporter": "python",
   "pygments_lexer": "ipython3",
   "version": "3.9.12"
  }
 },
 "nbformat": 4,
 "nbformat_minor": 5
}
