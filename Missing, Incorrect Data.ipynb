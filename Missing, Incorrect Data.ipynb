{
 "cells": [
  {
   "cell_type": "code",
   "execution_count": 1,
   "id": "cea48b04-9c24-4756-9ccf-1cfd17bb7a63",
   "metadata": {},
   "outputs": [],
   "source": [
    "import numpy as np\n",
    "import pandas as pd\n",
    "import matplotlib.pyplot as plt\n",
    "import seaborn as sns\n",
    "pd.set_option(\"display.notebook_repr_html\", False)  # disable \"rich\" output\n",
    "plt.style.use(\"seaborn\")"
   ]
  },
  {
   "cell_type": "markdown",
   "id": "4eac48c7-5290-410e-ae97-0383651bc73a",
   "metadata": {},
   "source": [
    "## Missing Values"
   ]
  },
  {
   "cell_type": "code",
   "execution_count": 2,
   "id": "b4d5bed5-9c8b-488e-a87b-5b32449d3a01",
   "metadata": {},
   "outputs": [
    {
     "data": {
      "text/plain": [
       "     SEQN  BMDSTATS  BMXWT  BMIWT  BMXRECUM  BMIRECUM  BMXHEAD  BMIHEAD  \\\n",
       "0  109263         4    NaN    NaN       NaN       NaN      NaN      NaN   \n",
       "1  109264         1   42.2    NaN       NaN       NaN      NaN      NaN   \n",
       "2  109265         1   12.0    NaN      91.6       NaN      NaN      NaN   \n",
       "\n",
       "   BMXHT  BMIHT  ...  FIAINTRP  MIALANG  MIAPROXY  MIAINTRP  AIALANGA  \\\n",
       "0    NaN    NaN  ...       2.0      NaN       NaN       NaN       NaN   \n",
       "1  154.7    NaN  ...       2.0      1.0       2.0       2.0       1.0   \n",
       "2   89.3    NaN  ...       2.0      NaN       NaN       NaN       NaN   \n",
       "\n",
       "       WTINTPRP      WTMECPRP  SDMVPSU  SDMVSTRA  INDFMPIR  \n",
       "0   7891.762435   8951.815567        3       156      4.66  \n",
       "1  11689.747264  12271.157043        1       155      0.83  \n",
       "2  16273.825939  16658.764203        1       157      3.06  \n",
       "\n",
       "[3 rows x 50 columns]"
      ]
     },
     "execution_count": 2,
     "metadata": {},
     "output_type": "execute_result"
    }
   ],
   "source": [
    "nhanes = pd.read_csv(\"https://raw.githubusercontent.com/gagolews/\" +\n",
    "    \"teaching-data/master/marek/nhanes_p_demo_bmx_2020.csv\",\n",
    "    comment=\"#\")\n",
    "nhanes.head(3)"
   ]
  },
  {
   "cell_type": "code",
   "execution_count": 3,
   "id": "7b7de56a-c81c-4655-9f3e-8a5113fa0029",
   "metadata": {},
   "outputs": [
    {
     "data": {
      "text/plain": [
       "(14300,)"
      ]
     },
     "execution_count": 3,
     "metadata": {},
     "output_type": "execute_result"
    }
   ],
   "source": [
    "nhanes.loc[:,\"BMXWT\"].shape"
   ]
  },
  {
   "cell_type": "code",
   "execution_count": 4,
   "id": "9565722b-79a8-4ad9-9e70-f9f3611b9997",
   "metadata": {},
   "outputs": [
    {
     "data": {
      "text/plain": [
       "14075"
      ]
     },
     "execution_count": 4,
     "metadata": {},
     "output_type": "execute_result"
    }
   ],
   "source": [
    "nhanes.loc[:,\"BMXWT\"].count()"
   ]
  },
  {
   "cell_type": "code",
   "execution_count": 5,
   "id": "33ae9fe4-31bd-4b3b-be01-cb24cda39853",
   "metadata": {},
   "outputs": [
    {
     "data": {
      "text/plain": [
       "0         True\n",
       "1        False\n",
       "2        False\n",
       "3        False\n",
       "4        False\n",
       "         ...  \n",
       "14295    False\n",
       "14296    False\n",
       "14297    False\n",
       "14298    False\n",
       "14299    False\n",
       "Name: BMXWT, Length: 14300, dtype: bool"
      ]
     },
     "execution_count": 5,
     "metadata": {},
     "output_type": "execute_result"
    }
   ],
   "source": [
    "nhanes.loc[:,\"BMXWT\"].isna()"
   ]
  },
  {
   "cell_type": "code",
   "execution_count": 9,
   "id": "5ba3c089-b002-401b-86ed-c21afd75e503",
   "metadata": {},
   "outputs": [
    {
     "data": {
      "text/plain": [
       "         SEQN  BMDSTATS  BMXWT  BMIWT  BMXRECUM  BMIRECUM  BMXHEAD  BMIHEAD  \\\n",
       "1      109264         1   42.2    NaN       NaN       NaN      NaN      NaN   \n",
       "2      109265         1   12.0    NaN      91.6       NaN      NaN      NaN   \n",
       "3      109266         1   97.1    NaN       NaN       NaN      NaN      NaN   \n",
       "4      109269         3   13.6    NaN      90.9       NaN      NaN      NaN   \n",
       "5      109270         1   75.3    NaN       NaN       NaN      NaN      NaN   \n",
       "...       ...       ...    ...    ...       ...       ...      ...      ...   \n",
       "14295  124818         1  108.8    NaN       NaN       NaN      NaN      NaN   \n",
       "14296  124819         1   15.4    NaN      94.9       NaN      NaN      NaN   \n",
       "14297  124820         1   22.9    NaN       NaN       NaN      NaN      NaN   \n",
       "14298  124821         1   79.5    NaN       NaN       NaN      NaN      NaN   \n",
       "14299  124822         1   59.7    NaN       NaN       NaN      NaN      NaN   \n",
       "\n",
       "       BMXHT  BMIHT  ...  FIAINTRP  MIALANG  MIAPROXY  MIAINTRP  AIALANGA  \\\n",
       "1      154.7    NaN  ...       2.0      1.0       2.0       2.0       1.0   \n",
       "2       89.3    NaN  ...       2.0      NaN       NaN       NaN       NaN   \n",
       "3      160.2    NaN  ...       2.0      1.0       2.0       2.0       1.0   \n",
       "4        NaN    1.0  ...       2.0      NaN       NaN       NaN       NaN   \n",
       "5      156.0    NaN  ...       2.0      1.0       2.0       2.0       NaN   \n",
       "...      ...    ...  ...       ...      ...       ...       ...       ...   \n",
       "14295  168.7    3.0  ...       2.0      1.0       2.0       2.0       1.0   \n",
       "14296   93.7    NaN  ...       2.0      NaN       NaN       NaN       NaN   \n",
       "14297  123.3    NaN  ...       2.0      NaN       NaN       NaN       NaN   \n",
       "14298  176.4    NaN  ...       2.0      1.0       2.0       2.0       1.0   \n",
       "14299  167.5    NaN  ...       NaN      2.0       2.0       2.0       NaN   \n",
       "\n",
       "           WTINTPRP      WTMECPRP  SDMVPSU  SDMVSTRA  INDFMPIR  \n",
       "1      11689.747264  12271.157043        1       155      0.83  \n",
       "2      16273.825939  16658.764203        1       157      3.06  \n",
       "3       7825.646112   8154.968193        2       168      5.00  \n",
       "4       5906.250521   6848.271782        2       152      0.96  \n",
       "5       4613.057696   4886.930378        1       150      1.88  \n",
       "...             ...           ...      ...       ...       ...  \n",
       "14295  21586.596728  21666.889837        1       166      3.82  \n",
       "14296   1664.919253   1838.169709        2       171      0.07  \n",
       "14297  14819.783161  16497.806674        1       157      1.22  \n",
       "14298   4666.817952   4853.430230        1       158      3.71  \n",
       "14299  14024.476634  15195.796658        1       149       NaN  \n",
       "\n",
       "[14075 rows x 50 columns]"
      ]
     },
     "execution_count": 9,
     "metadata": {},
     "output_type": "execute_result"
    }
   ],
   "source": [
    "nhanes.loc[ ~nhanes.loc[:,\"BMXWT\"].isna(),:]#records for column BMXWT not null"
   ]
  },
  {
   "cell_type": "code",
   "execution_count": 11,
   "id": "dcaa9328-158e-423a-ace6-9ad1dab42786",
   "metadata": {},
   "outputs": [
    {
     "data": {
      "text/plain": [
       "         SEQN  BMDSTATS  BMXWT  BMIWT  BMXRECUM  BMIRECUM  BMXHEAD  BMIHEAD  \\\n",
       "1      109264         1   42.2    NaN       NaN       NaN      NaN      NaN   \n",
       "2      109265         1   12.0    NaN      91.6       NaN      NaN      NaN   \n",
       "3      109266         1   97.1    NaN       NaN       NaN      NaN      NaN   \n",
       "5      109270         1   75.3    NaN       NaN       NaN      NaN      NaN   \n",
       "6      109271         1   98.8    NaN       NaN       NaN      NaN      NaN   \n",
       "...       ...       ...    ...    ...       ...       ...      ...      ...   \n",
       "14295  124818         1  108.8    NaN       NaN       NaN      NaN      NaN   \n",
       "14296  124819         1   15.4    NaN      94.9       NaN      NaN      NaN   \n",
       "14297  124820         1   22.9    NaN       NaN       NaN      NaN      NaN   \n",
       "14298  124821         1   79.5    NaN       NaN       NaN      NaN      NaN   \n",
       "14299  124822         1   59.7    NaN       NaN       NaN      NaN      NaN   \n",
       "\n",
       "       BMXHT  BMIHT  ...  FIAINTRP  MIALANG  MIAPROXY  MIAINTRP  AIALANGA  \\\n",
       "1      154.7    NaN  ...       2.0      1.0       2.0       2.0       1.0   \n",
       "2       89.3    NaN  ...       2.0      NaN       NaN       NaN       NaN   \n",
       "3      160.2    NaN  ...       2.0      1.0       2.0       2.0       1.0   \n",
       "5      156.0    NaN  ...       2.0      1.0       2.0       2.0       NaN   \n",
       "6      182.3    NaN  ...       2.0      1.0       2.0       2.0       1.0   \n",
       "...      ...    ...  ...       ...      ...       ...       ...       ...   \n",
       "14295  168.7    3.0  ...       2.0      1.0       2.0       2.0       1.0   \n",
       "14296   93.7    NaN  ...       2.0      NaN       NaN       NaN       NaN   \n",
       "14297  123.3    NaN  ...       2.0      NaN       NaN       NaN       NaN   \n",
       "14298  176.4    NaN  ...       2.0      1.0       2.0       2.0       1.0   \n",
       "14299  167.5    NaN  ...       NaN      2.0       2.0       2.0       NaN   \n",
       "\n",
       "           WTINTPRP      WTMECPRP  SDMVPSU  SDMVSTRA  INDFMPIR  \n",
       "1      11689.747264  12271.157043        1       155      0.83  \n",
       "2      16273.825939  16658.764203        1       157      3.06  \n",
       "3       7825.646112   8154.968193        2       168      5.00  \n",
       "5       4613.057696   4886.930378        1       150      1.88  \n",
       "6       8481.589837   8658.732873        1       167       NaN  \n",
       "...             ...           ...      ...       ...       ...  \n",
       "14295  21586.596728  21666.889837        1       166      3.82  \n",
       "14296   1664.919253   1838.169709        2       171      0.07  \n",
       "14297  14819.783161  16497.806674        1       157      1.22  \n",
       "14298   4666.817952   4853.430230        1       158      3.71  \n",
       "14299  14024.476634  15195.796658        1       149       NaN  \n",
       "\n",
       "[13137 rows x 50 columns]"
      ]
     },
     "execution_count": 11,
     "metadata": {},
     "output_type": "execute_result"
    }
   ],
   "source": [
    "nhanes.loc[ (~nhanes.loc[:,\"BMXWT\"].isna()) & (~nhanes.loc[:,\"BMXHT\"].isna()),:]#records for column BMXWT,BMXHT not null"
   ]
  },
  {
   "cell_type": "code",
   "execution_count": 12,
   "id": "7b7b7540-2d43-48da-b30e-a3850454cfd1",
   "metadata": {},
   "outputs": [
    {
     "data": {
      "text/plain": [
       "65.42638010657159"
      ]
     },
     "execution_count": 12,
     "metadata": {},
     "output_type": "execute_result"
    }
   ],
   "source": [
    "nhanes.loc[:,\"BMXWT\"].mean()#ignores missing values"
   ]
  },
  {
   "cell_type": "code",
   "execution_count": null,
   "id": "c1a22047-231f-4f07-8ad6-643aa9166d6d",
   "metadata": {},
   "outputs": [],
   "source": [
    "nhanes.dropna() #removes all rows having missing values. "
   ]
  },
  {
   "cell_type": "code",
   "execution_count": 13,
   "id": "7873fc93-3365-4ef5-afea-34077148278e",
   "metadata": {},
   "outputs": [
    {
     "data": {
      "text/plain": [
       "         SEQN  BMDSTATS  BMXWT  BMIWT  BMXRECUM  BMIRECUM  BMXHEAD  BMIHEAD  \\\n",
       "1      109264         1   42.2    NaN       NaN       NaN      NaN      NaN   \n",
       "2      109265         1   12.0    NaN      91.6       NaN      NaN      NaN   \n",
       "3      109266         1   97.1    NaN       NaN       NaN      NaN      NaN   \n",
       "5      109270         1   75.3    NaN       NaN       NaN      NaN      NaN   \n",
       "6      109271         1   98.8    NaN       NaN       NaN      NaN      NaN   \n",
       "...       ...       ...    ...    ...       ...       ...      ...      ...   \n",
       "14295  124818         1  108.8    NaN       NaN       NaN      NaN      NaN   \n",
       "14296  124819         1   15.4    NaN      94.9       NaN      NaN      NaN   \n",
       "14297  124820         1   22.9    NaN       NaN       NaN      NaN      NaN   \n",
       "14298  124821         1   79.5    NaN       NaN       NaN      NaN      NaN   \n",
       "14299  124822         1   59.7    NaN       NaN       NaN      NaN      NaN   \n",
       "\n",
       "       BMXHT  BMIHT  ...  FIAINTRP  MIALANG  MIAPROXY  MIAINTRP  AIALANGA  \\\n",
       "1      154.7    NaN  ...       2.0      1.0       2.0       2.0       1.0   \n",
       "2       89.3    NaN  ...       2.0      NaN       NaN       NaN       NaN   \n",
       "3      160.2    NaN  ...       2.0      1.0       2.0       2.0       1.0   \n",
       "5      156.0    NaN  ...       2.0      1.0       2.0       2.0       NaN   \n",
       "6      182.3    NaN  ...       2.0      1.0       2.0       2.0       1.0   \n",
       "...      ...    ...  ...       ...      ...       ...       ...       ...   \n",
       "14295  168.7    3.0  ...       2.0      1.0       2.0       2.0       1.0   \n",
       "14296   93.7    NaN  ...       2.0      NaN       NaN       NaN       NaN   \n",
       "14297  123.3    NaN  ...       2.0      NaN       NaN       NaN       NaN   \n",
       "14298  176.4    NaN  ...       2.0      1.0       2.0       2.0       1.0   \n",
       "14299  167.5    NaN  ...       NaN      2.0       2.0       2.0       NaN   \n",
       "\n",
       "           WTINTPRP      WTMECPRP  SDMVPSU  SDMVSTRA  INDFMPIR  \n",
       "1      11689.747264  12271.157043        1       155      0.83  \n",
       "2      16273.825939  16658.764203        1       157      3.06  \n",
       "3       7825.646112   8154.968193        2       168      5.00  \n",
       "5       4613.057696   4886.930378        1       150      1.88  \n",
       "6       8481.589837   8658.732873        1       167       NaN  \n",
       "...             ...           ...      ...       ...       ...  \n",
       "14295  21586.596728  21666.889837        1       166      3.82  \n",
       "14296   1664.919253   1838.169709        2       171      0.07  \n",
       "14297  14819.783161  16497.806674        1       157      1.22  \n",
       "14298   4666.817952   4853.430230        1       158      3.71  \n",
       "14299  14024.476634  15195.796658        1       149       NaN  \n",
       "\n",
       "[13137 rows x 50 columns]"
      ]
     },
     "execution_count": 13,
     "metadata": {},
     "output_type": "execute_result"
    }
   ],
   "source": [
    "nhanes.dropna(subset = [\"BMXWT\",\"BMXHT\"]) #removes all rows having missing values  for the two columns. "
   ]
  },
  {
   "cell_type": "code",
   "execution_count": 15,
   "id": "fd1e83bf-5269-41b7-b4c7-31e403ad3257",
   "metadata": {},
   "outputs": [
    {
     "data": {
      "text/plain": [
       "(13137, 50)"
      ]
     },
     "execution_count": 15,
     "metadata": {},
     "output_type": "execute_result"
    }
   ],
   "source": [
    "nhanes.dropna(subset = [\"BMXWT\",\"BMXHT\"]).shape"
   ]
  },
  {
   "cell_type": "code",
   "execution_count": 16,
   "id": "0565a744-6cdb-46c9-8e92-2a573f9d60ee",
   "metadata": {},
   "outputs": [
    {
     "data": {
      "text/plain": [
       "              sum      mean\n",
       "BMIHEAD   14300.0  1.000000\n",
       "BMIRECUM  14257.0  0.996993\n",
       "BMIHT     14129.0  0.988042\n",
       "BMXHEAD   13990.0  0.978322\n",
       "BMIHIP    13924.0  0.973706"
      ]
     },
     "execution_count": 16,
     "metadata": {},
     "output_type": "execute_result"
    }
   ],
   "source": [
    "nhanes_na_stats = nhanes.isna().apply([np.sum, np.mean]).T\n",
    "nhanes_na_stats.nlargest(5, \"sum\")\n",
    "\n",
    "#here are the counts and proportions of missing values in each column (we will display only the top 5 columns"
   ]
  },
  {
   "cell_type": "code",
   "execution_count": 23,
   "id": "89092a15-a9d0-4a7a-b28b-d1423a97a599",
   "metadata": {},
   "outputs": [],
   "source": [
    "groups = nhanes.groupby(\"BMXWT\").groups"
   ]
  },
  {
   "cell_type": "code",
   "execution_count": 24,
   "id": "5da34228-0434-4efb-801e-4bbf9a4bf4bc",
   "metadata": {},
   "outputs": [
    {
     "data": {
      "text/plain": [
       "{3.2: [14177], 3.5: [12935], 3.6: [1298], 3.7: [6818], 3.8: [878, 1191, 5800, 11683], 3.9: [4118, 4456, 7457, 9870, 12182, 14133], 4.0: [2920, 4056, 9569, 11210, 12183], 4.1: [558, 2238], 4.2: [16, 3513, 4403, 6183, 6243, 8386, 11005], 4.3: [2422, 3711, 8703, 10495], 4.4: [713, 7177, 11096, 12916], 4.5: [6327, 12024, 13941], 4.6: [11, 6636, 12094], 4.7: [549, 1214, 1936, 8283, 11272, 11287], 4.8: [210, 1007, 2080, 2617, 2668, 6685, 7846, 8125, 8561], 4.9: [931, 4843, 6580, 8464, 11094, 11192], 5.0: [3325, 4059, 4166, 8690, 8847, 9988, 11778, 12431], 5.1: [2085, 5462, 7961, 12736], 5.2: [2160, 2475, 5289, 6157, 9475, 13245], 5.3: [111, 2098, 12480, 12883, 14278], 5.4: [2880, 3347, 12264, 12668, 14042, 14180], 5.5: [2401, 4187, 6229, 7746, 9396, 11326, 11462, 11588, 12645, 13576], 5.6: [3584, 4912, 5841, 6033, 8466, 13161], 5.7: [6939, 9358, 11159, 14114], 5.8: [183, 2496, 3510, 8821, 9286, 11403, 12034, 13159], 5.9: [316, 2459, 3496, 6075, 9417, 9947, 10078, 12544], 6.0: [933, 1998, 2816, 4152, 4567, 7913, 10084, 12270, 12771, 13957], 6.1: [2839, 13238], 6.2: [6273, 7143, 9840, 11723], 6.3: [1705, 4116, 9341, 9671, 10491, 11708, 12950], 6.4: [631, 2796, 9554, 10391, 10758, 10926], 6.5: [1255, 1276, 6650, 10054, 12327, 12867], 6.6: [1194, 4492, 5102, 6333, 9321, 10477, 11228, 12209], 6.7: [720, 975, 1656, 3204, 11567, 11642], 6.8: [850, 1013, 1036, 1375, 5103, 6957, 7622, 12307], 6.9: [952, 1574, 3937, 5085, 6279, 9031, 9522, 11828], 7.0: [868, 2654, 2755, 3483, 5311, 6992, 10193], 7.1: [7, 85, 436, 1437, 3341, 4529, 5352, 9172, 9780, 10321, 10752], 7.2: [182, 384, 1006, 4438, 6119, 9980, 12468, 13296], 7.3: [634, 3389, 4626, 10099, 10887], 7.4: [2993, 7854, 8913, 10376, 14145], 7.5: [1911, 6093, 6836, 7554, 8445, 9586, 10006, 11732, 11966, 13285], 7.6: [1122, 2008, 3718, 3952, 4750, 5254, 5988, 9144, 10430, 13557], 7.7: [2301, 2360, 2509, 5000, 6001, 6360, 6769, 7617, 10737], 7.8: [2293, 3907, 4758, 5411, 6727, 6821, 7975, 10933], 7.9: [143, 762, 2041, 5363, 5872, 6466, 7893, 7971, 9438, 13138], 8.0: [160, 611, 1063, 1527, 1583, 2906, 4055, 7096, 9114, 10302, 11620, 11781, 13707], 8.1: [217, 1193, 1573, 2243, 3788, 3969, 4564, 4701, 4708, 5095, 7463, 11413, 14020], 8.2: [75, 917, 3973, 4340, 4472, 5698, 6173, 6743, 7151, 7520, 8057, 8374, 8497, 8735, 9633, 9809, 11580, 12288, 12767, 13987], 8.3: [2052, 2878, 5626, 5869, 6527, 9954, 10287, 10504, 12473, 12712, 13524, 14129], 8.4: [562, 911, 3027, 5901, 7148, 7173, 7525, 8383, 11175], 8.5: [2206, 2840, 4880, 8666, 9010, 9163, 9323, 10761, 10901, 11812, 13456], 8.6: [3378, 3538, 4266, 4597, 4785, 5786, 6640, 7377, 7715, 7729, 7835, 8543, 13587, 14074], 8.7: [207, 259, 1211, 2677, 3892, 4636, 5985, 6807, 6892, 7939, 10478, 11607, 11763, 13728, 14293], 8.8: [1662, 2188, 3015, 3251, 3424, 4530, 5403, 5503, 7561, 8344, 9679, 11626, 12414, 13170], 8.9: [1824, 2643, 3894, 5119, 6849, 9640, 10579, 11006, 12382], 9.0: [1828, 4144, 11034], 9.1: [724, 907, 1781, 2278, 3173, 4535, 4893, 8687, 8920, 10290, 10304, 10314, 10443, 11000, 12166, 13865, 14179], 9.2: [28, 141, 330, 2094, 3703, 5054, 5708, 6330, 8762, 9470, 9907, 10978, 11060, 11206, 13292, 14244], 9.3: [354, 2259, 2996, 3975, 5899, 5992, 6310, 7059, 7312, 7934, 8979, 10659, 10785, 12152, 12794, 13149, 13355], 9.4: [1348, 1444, 2864, 5282, 6676, 6881, 7222, 10151, 10203, 10365, 11804, 13365], 9.5: [410, 1269, 2854, 3296, 5520, 6041, 6660, 9192, 9587, 10388, 10510, 10660, 10849, 11995, 14189], 9.6: [170, 1947, 4660, 8628, 8738, 9136, 9562, 9700, 10218, 10403, 10900, 11419], 9.7: [1647, 3001, 3583, 4269, 8890, 10330, 12981, 13768, 14211], 9.8: [140, 700, 801, 3002, 3648, 4237, 4284, 6241, 6678, 8183, 12222], 9.9: [2378, 4600, 4870, 5516, 5880, 5939, 6680, 7816, 8141, 8478, 8877, 9656, 12129, 12946], 10.0: [1502, 1709, 4089, 4455, 4640, 4668, 4859, 5203, 5453, 5822, 6558, 10220, 12660, 12731, 12961, 13019, 13765, 14097], 10.1: [46, 873, 1621, 2752, 4653, 5057, 6583, 8321, 8332, 9003, 9471, 11692, 12758], 10.2: [648, 1257, 3349, 3442, 3905, 5750, 5857, 7486, 7744, 8530, 8553, 8769, 9204, 10782, 13191, 14090], 10.3: [61, 152, 235, 1024, 1281, 1963, 2425, 2757, 5246, 7028, 7466, 7772, 8901, 9179, 11629, 11764, 12619, 13153, 13714], 10.4: [652, 1368, 1591, 7823, 9051, 10678, 13145], 10.5: [190, 518, 1756, 2547, 3722, 4586, 4632, 4924, 7285, 8820, 9047, 9388, 10369, 10950, 11488, 11720, 12101], 10.6: [2040, 2575, 4414, 4549, 5323, 5387, 5711, 6514, 7492, 8647, 9979, 10332, 11114], 10.7: [635, 1525, 6441, 10778, 12237, 13032, 13462, 14038, 14279], 10.8: [357, 374, 582, 913, 1067, 3481, 3507, 3595, 3874, 4658, 4736, 5744, 5767, 7206, 8956, 10119, 13197, 13729, 14056], 10.9: [3206, 3605, 5002, 5413, 5482, 6393, 6826, 8089, 8207, 9833, 12924], 11.0: [144, 1014, 1901, 2117, 3022, 3262, 3505, 3967, 4190, 5718, 6336, 6576, 7599, 8082, 11460, 12985, 13083, 13969], 11.1: [355, 1378, 2836, 2933, 2941, 3408, 4799, 5612, 8042, 8491, 9029, 9065, 10323, 10670, 13024, 13337], 11.2: [570, 893, 2504, 4075, 4909, 7016, 7880, 9265, 9379, 12429, 12973], 11.3: [236, 818, 1531, 5123, 5926, 6690, 7602, 8395, 8828, 9214, 9666, 9670, 12487, 13835, 14159], 11.4: [84, 2524, 3524, 5099, 5438, 8545, 9506, 9965, 10567, 12348, 13250, 13685, 13883, 14218], 11.5: [645, 662, 923, 3120, 4954, 4968, 6112, 7207, 7608, 7886, 8476, 9217, 9338, 10171, 11219, 13253, 13351, 13796], 11.6: [597, 670, 1266, 2171, 3090, 3517, 3791, 3923, 4331, 6073, 6098, 7411, 8270, 11548], 11.7: [234, 2440, 3652, 4621, 4951, 5848, 7102, 7523, 10773, 11341, 11977, 12569, 14092, 14124], 11.8: [366, 1434, 2922, 5589, 6699, 7500, 8833, 8980, 9212, 10463, 10664, 11912, 13743], 11.9: [129, 262, 517, 2865, 3745, 4360, 4876, 4881, 5202, 7048, 7606, 8876, 9085, 9648, 11022, 11712, 12376], 12.0: [2, 3628, 5063, 5146, 5156, 7127, 7407, 8054, 9173, 9517, 9663, 10460, 12500, 13802], 12.1: [241, 721, 1135, 2721, 4952, 5884, 6275, 6962, 7310, 8613, 9862, 10695, 11377, 11489, 12037], 12.2: [3698, 4519, 4608, 4875, 5291, 9567, 9955, 10063, 10474, 10550, 11779, 13276, 14228], 12.3: [41, 2376, 2686, 2972, 6031, 6532, 7798, 8368, 8520, 8622, 8700, 11568, 11614, 12043, 12960, 13179, 14025], 12.4: [15, 995, 2125, 3619, 3868, 4938, 6118, 6364, 7167, 7568, 10280, 10798, 12090, 13291, 13398, 13834, 13934], 12.5: [288, 910, 1198, 1768, 3032, 4159, 4242, 4464, 5435, 5752, 5791, 7267, 10277, 10843, 12159, 12562, 12580, 13104, 13363], 12.6: [589, 2379, 3079, 4746, 5561, 5858, 5919, 5962, 6281, 7712, 10674, 11242, 11746, 12379, 13421, 14006, 14010], 12.7: [275, 2159, 4707, 6316, 8867, 10466, 14036], 12.8: [394, 870, 2645, 3695, 4005, 4229, 5021, 5300, 5932, 6131, 8092, 8607, 11663, 12295, 12489, 14164, 14282], 12.9: [1804, 3253, 4350, 4541, 4855, 4962, 5404, 6328, 6433, 6875, 7781, 8121, 8217, 9579, 10868, 11315, 11579, 14123], 13.0: [521, 819, 1029, 2663, 4204, 4410, 4793, 4892, 5204, 5493, 5774, 6091, 6175, 6375, 9255, 9360, 11113, 11438, 12236, 12333, 12438], 13.1: [23, 811, 1423, 2273, 2483, 3274, 8868, 9134, 9728, 10042, 11608, 12109, 12476, 12987, 13270, 13546], 13.2: [877, 1229, 1712, 1819, 2151, 3327, 3412, 5324, 5485, 7201, 7871, 8932, 9763, 11477, 12768], 13.3: [438, 3084, 4531, 4594, 5235, 5466, 6198, 6513, 6589, 6665, 6847, 8577, 10822, 12745, 13439], ...}"
      ]
     },
     "execution_count": 24,
     "metadata": {},
     "output_type": "execute_result"
    }
   ],
   "source": [
    "groups"
   ]
  },
  {
   "cell_type": "code",
   "execution_count": null,
   "id": "f1d65e69-4187-4364-b547-55aed3fd8b27",
   "metadata": {},
   "outputs": [],
   "source": [
    "#to read data in group by \"specifically done for categorical data\n",
    "for group_name, group_data in nhanes.groupby(\"BMXWT\"):\n",
    "    print(f\"Group: {group_name}\")\n",
    "    print(group_data)"
   ]
  },
  {
   "cell_type": "code",
   "execution_count": 26,
   "id": "badda69a-72e4-4bb0-868e-f36dfa3f8628",
   "metadata": {},
   "outputs": [
    {
     "name": "stdout",
     "output_type": "stream",
     "text": [
      "         SEQN  BMDSTATS  BMXWT  BMIWT  BMXRECUM  BMIRECUM  BMXHEAD  BMIHEAD  \\\n",
      "1      109264         1   42.2    NaN       NaN       NaN      NaN      NaN   \n",
      "2      109265         1   12.0    NaN      91.6       NaN      NaN      NaN   \n",
      "3      109266         1   97.1    NaN       NaN       NaN      NaN      NaN   \n",
      "4      109269         3   13.6    NaN      90.9       NaN      NaN      NaN   \n",
      "5      109270         1   75.3    NaN       NaN       NaN      NaN      NaN   \n",
      "...       ...       ...    ...    ...       ...       ...      ...      ...   \n",
      "14295  124818         1  108.8    NaN       NaN       NaN      NaN      NaN   \n",
      "14296  124819         1   15.4    NaN      94.9       NaN      NaN      NaN   \n",
      "14297  124820         1   22.9    NaN       NaN       NaN      NaN      NaN   \n",
      "14298  124821         1   79.5    NaN       NaN       NaN      NaN      NaN   \n",
      "14299  124822         1   59.7    NaN       NaN       NaN      NaN      NaN   \n",
      "\n",
      "       BMXHT  BMIHT  ...  FIAINTRP  MIALANG  MIAPROXY  MIAINTRP  AIALANGA  \\\n",
      "1      154.7    NaN  ...       2.0      1.0       2.0       2.0       1.0   \n",
      "2       89.3    NaN  ...       2.0      NaN       NaN       NaN       NaN   \n",
      "3      160.2    NaN  ...       2.0      1.0       2.0       2.0       1.0   \n",
      "4        NaN    1.0  ...       2.0      NaN       NaN       NaN       NaN   \n",
      "5      156.0    NaN  ...       2.0      1.0       2.0       2.0       NaN   \n",
      "...      ...    ...  ...       ...      ...       ...       ...       ...   \n",
      "14295  168.7    3.0  ...       2.0      1.0       2.0       2.0       1.0   \n",
      "14296   93.7    NaN  ...       2.0      NaN       NaN       NaN       NaN   \n",
      "14297  123.3    NaN  ...       2.0      NaN       NaN       NaN       NaN   \n",
      "14298  176.4    NaN  ...       2.0      1.0       2.0       2.0       1.0   \n",
      "14299  167.5    NaN  ...       NaN      2.0       2.0       2.0       NaN   \n",
      "\n",
      "           WTINTPRP      WTMECPRP  SDMVPSU  SDMVSTRA  INDFMPIR  \n",
      "1      11689.747264  12271.157043        1       155      0.83  \n",
      "2      16273.825939  16658.764203        1       157      3.06  \n",
      "3       7825.646112   8154.968193        2       168      5.00  \n",
      "4       5906.250521   6848.271782        2       152      0.96  \n",
      "5       4613.057696   4886.930378        1       150      1.88  \n",
      "...             ...           ...      ...       ...       ...  \n",
      "14295  21586.596728  21666.889837        1       166      3.82  \n",
      "14296   1664.919253   1838.169709        2       171      0.07  \n",
      "14297  14819.783161  16497.806674        1       157      1.22  \n",
      "14298   4666.817952   4853.430230        1       158      3.71  \n",
      "14299  14024.476634  15195.796658        1       149       NaN  \n",
      "\n",
      "[14075 rows x 50 columns]\n"
     ]
    }
   ],
   "source": [
    "grouped_data = nhanes.groupby(\"BMXWT\").apply(lambda x: x)\n",
    "print(grouped_data)"
   ]
  },
  {
   "cell_type": "code",
   "execution_count": 27,
   "id": "a942a0ba-82ea-4ce1-943b-228a0ae1a19c",
   "metadata": {},
   "outputs": [
    {
     "name": "stdout",
     "output_type": "stream",
     "text": [
      "BMXWT\n",
      "3.2      1\n",
      "3.5      1\n",
      "3.6      1\n",
      "3.7      1\n",
      "3.8      4\n",
      "        ..\n",
      "210.8    1\n",
      "219.6    1\n",
      "223.5    1\n",
      "242.6    1\n",
      "254.3    1\n",
      "Length: 1513, dtype: int64\n"
     ]
    }
   ],
   "source": [
    "group_sizes = nhanes.groupby(\"BMXWT\").size()\n",
    "print(group_sizes)"
   ]
  },
  {
   "cell_type": "code",
   "execution_count": 28,
   "id": "e82c0fe0-13d3-4e6b-8c0e-a52a12077e7a",
   "metadata": {},
   "outputs": [
    {
     "name": "stdout",
     "output_type": "stream",
     "text": [
      "       SEQN  BMDSTATS  BMIWT  BMXRECUM  BMIRECUM  BMXHEAD  BMIHEAD  BMXHT  \\\n",
      "BMXWT                                                                       \n",
      "3.2       1         1      0         1         0        1        0      0   \n",
      "3.5       1         1      0         1         0        1        0      0   \n",
      "3.6       1         1      0         1         0        1        0      0   \n",
      "3.7       1         1      0         1         0        1        0      0   \n",
      "3.8       4         4      0         4         0        4        0      0   \n",
      "...     ...       ...    ...       ...       ...      ...      ...    ...   \n",
      "210.8     1         1      0         0         0        0        0      1   \n",
      "219.6     1         1      1         0         0        0        0      1   \n",
      "223.5     1         1      0         0         0        0        0      1   \n",
      "242.6     1         1      0         0         0        0        0      1   \n",
      "254.3     1         1      1         0         0        0        0      1   \n",
      "\n",
      "       BMIHT  BMXBMI  ...  FIAINTRP  MIALANG  MIAPROXY  MIAINTRP  AIALANGA  \\\n",
      "BMXWT                 ...                                                    \n",
      "3.2        0       0  ...         1        0         0         0         0   \n",
      "3.5        0       0  ...         1        0         0         0         0   \n",
      "3.6        0       0  ...         1        0         0         0         0   \n",
      "3.7        0       0  ...         1        0         0         0         0   \n",
      "3.8        0       0  ...         4        0         0         0         0   \n",
      "...      ...     ...  ...       ...      ...       ...       ...       ...   \n",
      "210.8      0       1  ...         1        1         1         1         1   \n",
      "219.6      1       1  ...         1        1         1         1         1   \n",
      "223.5      0       1  ...         1        1         1         1         1   \n",
      "242.6      0       1  ...         1        1         1         1         1   \n",
      "254.3      0       1  ...         1        1         1         1         1   \n",
      "\n",
      "       WTINTPRP  WTMECPRP  SDMVPSU  SDMVSTRA  INDFMPIR  \n",
      "BMXWT                                                   \n",
      "3.2           1         1        1         1         1  \n",
      "3.5           1         1        1         1         1  \n",
      "3.6           1         1        1         1         1  \n",
      "3.7           1         1        1         1         1  \n",
      "3.8           4         4        4         4         4  \n",
      "...         ...       ...      ...       ...       ...  \n",
      "210.8         1         1        1         1         1  \n",
      "219.6         1         1        1         1         1  \n",
      "223.5         1         1        1         1         1  \n",
      "242.6         1         1        1         1         1  \n",
      "254.3         1         1        1         1         1  \n",
      "\n",
      "[1513 rows x 49 columns]\n"
     ]
    }
   ],
   "source": [
    "group_count = nhanes.groupby(\"BMXWT\").count()\n",
    "print(group_count)"
   ]
  },
  {
   "cell_type": "markdown",
   "id": "efc3f776-0d29-4bba-aed4-2b35237d704f",
   "metadata": {
    "tags": []
   },
   "source": [
    "## Missing Data"
   ]
  },
  {
   "cell_type": "markdown",
   "id": "1d607cb2-ef5a-4512-a8b7-0c1cda9f6267",
   "metadata": {},
   "source": [
    "### 1. Discarding Nan values"
   ]
  },
  {
   "cell_type": "code",
   "execution_count": null,
   "id": "34e5e1aa-8429-4599-943e-4c2485ee0151",
   "metadata": {},
   "outputs": [],
   "source": [
    "pandas.DataFrame.dropna\n",
    "and numpy.isnan or pandas.DataFrame.isna with .loc or .iloc otherwise."
   ]
  },
  {
   "cell_type": "markdown",
   "id": "2f83121d-51e1-4938-bc37-8c820c89390d",
   "metadata": {},
   "source": [
    "### 2. Mean Imputation"
   ]
  },
  {
   "cell_type": "code",
   "execution_count": 31,
   "id": "882a79b1-f1a8-478d-8926-a58721f8e8c0",
   "metadata": {},
   "outputs": [],
   "source": [
    "x = nhanes.loc[nhanes.loc[:, \"RIDAGEYR\"] >= 18, \"BMXHT\"]"
   ]
  },
  {
   "cell_type": "code",
   "execution_count": 33,
   "id": "6e7de6d9-049a-4df6-b72b-7f1644362cb9",
   "metadata": {},
   "outputs": [],
   "source": [
    "xi = x.copy()\n",
    "xi[np.isnan(xi)] = np.nanmean(xi)\n",
    "#replace nan with mean. accordingly can be done by median/mode"
   ]
  },
  {
   "cell_type": "code",
   "execution_count": 34,
   "id": "d597b0e9-1b2e-48b3-a8e8-bc85826f8e36",
   "metadata": {},
   "outputs": [],
   "source": [
    "xg = x.copy()\n",
    "g = nhanes.loc[nhanes.loc[:, \"RIDAGEYR\"] >= 18, \"RIAGENDR\"]\n",
    "xg[np.isnan(xg) & (g == 1)] = np.nanmean(xg[g == 1])  # male\n",
    "xg[np.isnan(xg) & (g == 2)] = np.nanmean(xg[g == 2])  # female\n",
    "\n",
    "#replace the missing values with the corresponding within-group averages:"
   ]
  },
  {
   "cell_type": "code",
   "execution_count": 35,
   "id": "93ebd605-3f19-462f-ab6e-3df341619600",
   "metadata": {},
   "outputs": [
    {
     "data": {
      "text/plain": [
       "3        160.2\n",
       "6        182.3\n",
       "8        184.2\n",
       "9        185.3\n",
       "17       177.1\n",
       "         ...  \n",
       "14292    178.8\n",
       "14294    147.8\n",
       "14295    168.7\n",
       "14298    176.4\n",
       "14299    167.5\n",
       "Name: BMXHT, Length: 8965, dtype: float64"
      ]
     },
     "execution_count": 35,
     "metadata": {},
     "output_type": "execute_result"
    }
   ],
   "source": [
    "xg"
   ]
  },
  {
   "cell_type": "code",
   "execution_count": 38,
   "id": "e4a1be68-b7a8-47eb-9dff-3640d1482906",
   "metadata": {},
   "outputs": [
    {
     "data": {
      "image/png": "[encoded data removed]",
      "text/plain": [
       "<Figure size 576x396 with 3 Axes>"
      ]
     },
     "metadata": {},
     "output_type": "display_data"
    }
   ],
   "source": [
    "plt.subplot(131)\n",
    "sns.histplot(x, binwidth=1, binrange=[130, 200], kde=True)\n",
    "plt.ylim(0, 500)\n",
    "plt.title(\"Original\")\n",
    "plt.subplot(132)\n",
    "sns.histplot(xi, binwidth=1, binrange=[130, 200], kde=True)\n",
    "plt.ylim(0, 500)\n",
    "plt.title(\"Replace by mean\")\n",
    "plt.subplot(133)\n",
    "sns.histplot(xg, binwidth=1, binrange=[130, 200], kde=True)\n",
    "plt.ylim(0, 500)\n",
    "plt.title(\"Replace by group mean\")\n",
    "plt.show()"
   ]
  },
  {
   "cell_type": "code",
   "execution_count": 39,
   "id": "3ab6a7e8-f312-47c7-b74d-2a614f5530ce",
   "metadata": {},
   "outputs": [
    {
     "name": "stdout",
     "output_type": "stream",
     "text": [
      "[3.66666667 2.         3.                nan 5.         6.\n",
      " 3.66666667]\n"
     ]
    }
   ],
   "source": [
    "import numpy as np\n",
    "\n",
    "# Example data\n",
    "x1g1 = np.array([np.nan, 2, 3, np.nan, 5, 6, np.nan])\n",
    "g1 = np.array([1, 1, 1, 2, 2, 1, 1])\n",
    "\n",
    "# Replace NaN in group g == 1 with the group mean\n",
    "x1g1[np.isnan(x1g1) & (g1 == 1)] = np.nanmean(x1g1[g1 == 1])\n",
    "\n",
    "print(x1g1)"
   ]
  },
  {
   "cell_type": "markdown",
   "id": "ce3113fc-6119-416f-9dfa-94ad0ba083b3",
   "metadata": {},
   "source": [
    "- 1. The missing values (NaN) in xg where g == 1 are replaced with the mean of the non-missing values in group 1 ((2 + 3 + 6) / 3 = 3.6667).\n",
    "- 2. The NaN in group g == 2 is untouched."
   ]
  },
  {
   "cell_type": "code",
   "execution_count": null,
   "id": "8121b133-a448-4528-b1af-d0a1f748bfc4",
   "metadata": {},
   "outputs": [],
   "source": [
    "sklearn.impute.KNNImputer  ##implements missing value imputation based on averaging data from an observation's non-missing neighbours. \n",
    "sklearn.impute.IterativeImputer ##where copies of the original datasets are created, missing values are imputed by sampling from some estimated distributions, \n",
    "                                 ##inference is made, and then the results are aggregated"
   ]
  },
  {
   "cell_type": "markdown",
   "id": "27af362b-e023-410f-a4fa-df27b83f4523",
   "metadata": {},
   "source": [
    "### Missing Values in Time Series"
   ]
  },
  {
   "cell_type": "markdown",
   "id": "71958898-a50e-4de9-bcbb-87c7f341d6f9",
   "metadata": {},
   "source": [
    "The most straightforward ways for dealing with missing values in time series are:\n",
    "\n",
    "1. forward-fill – propagate the last non-missing observation,\n",
    "2. backward-fill – get the next non-missing value,\n",
    "3. linearly interpolate between two adjacent non-missing values, in particular, a single missing value will be replaced by the average of its neighbours."
   ]
  },
  {
   "cell_type": "code",
   "execution_count": 40,
   "id": "e1a64906-c332-4bef-bcff-957b8eb8ed14",
   "metadata": {},
   "outputs": [
    {
     "data": {
      "text/plain": [
       "    original  ffilled  bfilled  interpolated\n",
       "0      190.0    190.0    190.0    190.000000\n",
       "1      118.0    118.0    118.0    118.000000\n",
       "2      149.0    149.0    149.0    149.000000\n",
       "3      313.0    313.0    313.0    313.000000\n",
       "4        NaN    313.0    299.0    308.333333\n",
       "5        NaN    313.0    299.0    303.666667\n",
       "6      299.0    299.0    299.0    299.000000\n",
       "7       99.0     99.0     99.0     99.000000\n",
       "8       19.0     19.0     19.0     19.000000\n",
       "9      194.0    194.0    194.0    194.000000\n",
       "10       NaN    194.0    256.0    225.000000\n",
       "11     256.0    256.0    256.0    256.000000"
      ]
     },
     "execution_count": 40,
     "metadata": {},
     "output_type": "execute_result"
    }
   ],
   "source": [
    "air = pd.read_csv(\"https://raw.githubusercontent.com/gagolews/\" +\n",
    "    \"teaching-data/master/r/air_quality_1973.csv\",\n",
    "    comment=\"#\")\n",
    "x = air.loc[:, \"Solar.R\"].iloc[:12]\n",
    "pd.DataFrame(dict(\n",
    "    original=x,\n",
    "    ffilled=x.fillna(method=\"ffill\"),\n",
    "    bfilled=x.fillna(method=\"bfill\"),\n",
    "    interpolated=x.interpolate(method=\"linear\")\n",
    "))"
   ]
  },
  {
   "cell_type": "markdown",
   "id": "6a994f86-b7db-41a8-be59-e1911543e255",
   "metadata": {},
   "source": [
    "## Outliers"
   ]
  },
  {
   "cell_type": "code",
   "execution_count": 41,
   "id": "1c43b785-f7e5-460f-9f2f-1a10ae3c1806",
   "metadata": {},
   "outputs": [
    {
     "data": {
      "image/png": "[encoded data removed]",
      "text/plain": [
       "<Figure size 576x396 with 2 Axes>"
      ]
     },
     "metadata": {},
     "output_type": "display_data"
    }
   ],
   "source": [
    "x = np.loadtxt(\"https://raw.githubusercontent.com/gagolews/\" +\n",
    "    \"teaching-data/master/marek/blobs2.txt\")\n",
    "plt.subplot(121)\n",
    "sns.boxplot(data=x, orient=\"h\")\n",
    "plt.subplot(122)\n",
    "sns.histplot(x, binwidth=1)\n",
    "plt.show()"
   ]
  },
  {
   "cell_type": "markdown",
   "id": "52d7c11c-2580-4e6e-8aef-3023f7cf0ffa",
   "metadata": {},
   "source": [
    "### Outliers"
   ]
  },
  {
   "cell_type": "code",
   "execution_count": 42,
   "id": "f2b9768e-e945-4534-9bda-16d1227f743a",
   "metadata": {},
   "outputs": [
    {
     "data": {
      "image/png": "[encoded data removed]",
      "text/plain": [
       "<Figure size 576x396 with 4 Axes>"
      ]
     },
     "metadata": {},
     "output_type": "display_data"
    }
   ],
   "source": [
    "x = np.loadtxt(\"https://raw.githubusercontent.com/gagolews/\" +\n",
    "    \"teaching-data/master/marek/blobs1.txt\", delimiter=\",\")\n",
    "plt.subplot(221)\n",
    "sns.boxplot(data=x[:, 0], orient=\"h\")\n",
    "plt.subplot(222)\n",
    "sns.histplot(x[:, 0], bins=20)\n",
    "plt.title(\"x[:, 0]\")\n",
    "plt.subplot(223)\n",
    "sns.boxplot(data=x[:, 1], orient=\"h\")\n",
    "plt.subplot(224)\n",
    "sns.histplot(x[:, 1], bins=20)\n",
    "plt.title(\"x[:, 1]\")\n",
    "plt.show()"
   ]
  },
  {
   "cell_type": "code",
   "execution_count": 43,
   "id": "8d6722cf-1b16-4cbd-81f3-7aea39b16d27",
   "metadata": {},
   "outputs": [
    {
     "data": {
      "image/png": "[encoded data removed]",
      "text/plain": [
       "<Figure size 576x396 with 1 Axes>"
      ]
     },
     "metadata": {},
     "output_type": "display_data"
    }
   ],
   "source": [
    "plt.scatter(x[:, 0], x[:, 1])\n",
    "plt.axis(\"equal\")\n",
    "plt.show()"
   ]
  },
  {
   "cell_type": "code",
   "execution_count": 44,
   "id": "bd26fc21-373f-4244-811b-5edd1eadacdb",
   "metadata": {},
   "outputs": [
    {
     "data": {
      "text/plain": [
       "array([[-3. ,  3. ],\n",
       "       [ 3. ,  3. ],\n",
       "       [ 3. , -3. ],\n",
       "       [-3. , -3. ],\n",
       "       [-3.5,  3.5],\n",
       "       [-2.5,  2.5],\n",
       "       [-2. ,  2. ],\n",
       "       [-1.5,  1.5]])"
      ]
     },
     "execution_count": 44,
     "metadata": {},
     "output_type": "execute_result"
    }
   ],
   "source": [
    "x[-8:, :]"
   ]
  },
  {
   "cell_type": "code",
   "execution_count": 45,
   "id": "bc70e103-206a-435e-8baa-40abfb72b6b3",
   "metadata": {},
   "outputs": [
    {
     "data": {
      "text/plain": [
       "array([42, 30,  1,  1])"
      ]
     },
     "execution_count": 45,
     "metadata": {},
     "output_type": "execute_result"
    }
   ],
   "source": [
    "import scipy.spatial\n",
    "t = scipy.spatial.KDTree(x)\n",
    "n = t.query_ball_tree(t, 0.2)  # epsilon=0.2 (radius)\n",
    "c = np.array([len(e) for e in n])\n",
    "c[[0, 1, -2, -1]]  # preview"
   ]
  },
  {
   "cell_type": "code",
   "execution_count": 46,
   "id": "db44c7b8-eb06-488e-b458-f0ea12a3d217",
   "metadata": {},
   "outputs": [
    {
     "data": {
      "image/png": "[encoded data removed]",
      "text/plain": [
       "<Figure size 576x396 with 1 Axes>"
      ]
     },
     "metadata": {},
     "output_type": "display_data"
    }
   ],
   "source": [
    "plt.scatter(x[c > 1, 0], x[c > 1, 1], label=\"normal point\")\n",
    "plt.scatter(x[c == 1, 0], x[c == 1, 1], marker=\"v\", label=\"outlier\")\n",
    "plt.axis(\"equal\")\n",
    "plt.legend()\n",
    "plt.show()"
   ]
  },
  {
   "cell_type": "code",
   "execution_count": 47,
   "id": "fef06e61-fcd1-40bd-981c-f762fb835157",
   "metadata": {},
   "outputs": [],
   "source": [
    "#sklearn.neighbors.LocalOutlierFactor\n",
    "#sklearn.svm.OneClassSVM\n",
    "#sklearn.ensemble.IsolationForest"
   ]
  }
 ],
 "metadata": {
  "kernelspec": {
   "display_name": "Python 3 (ipykernel)",
   "language": "python",
   "name": "python3"
  },
  "language_info": {
   "codemirror_mode": {
    "name": "ipython",
    "version": 3
   },
   "file_extension": ".py",
   "mimetype": "text/x-python",
   "name": "python",
   "nbconvert_exporter": "python",
   "pygments_lexer": "ipython3",
   "version": "3.9.12"
  }
 },
 "nbformat": 4,
 "nbformat_minor": 5
}
