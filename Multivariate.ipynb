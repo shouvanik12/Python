{
 "cells": [
  {
   "cell_type": "code",
   "execution_count": 1,
   "id": "0a80e95c-953f-4420-83d3-f54018d5baa9",
   "metadata": {},
   "outputs": [
    {
     "data": {
      "text/plain": [
       "array([['M', '20', 'KE'],\n",
       "       ['M', '20', 'KE'],\n",
       "       ['M', '20', 'KE'],\n",
       "       ['M', '20', 'ET'],\n",
       "       ['M', '30', 'KE'],\n",
       "       ['M', '30', 'KE']], dtype='<U2')"
      ]
     },
     "execution_count": 1,
     "metadata": {},
     "output_type": "execute_result"
    }
   ],
   "source": [
    "import numpy as np\n",
    "marathon = np.loadtxt(\"https://raw.githubusercontent.com/gagolews/\" +\n",
    "    \"teaching-data/master/marek/37_pzu_warsaw_marathon_3groups_top1000.txt\",\n",
    "    delimiter=\",\", dtype=str)\n",
    "marathon[:6, :]  # preview"
   ]
  },
  {
   "cell_type": "code",
   "execution_count": 2,
   "id": "a8e9af1d-f9d6-431a-8a42-b61fb73a49c8",
   "metadata": {},
   "outputs": [
    {
     "data": {
      "text/plain": [
       "array(['F', 'M'], dtype='<U2')"
      ]
     },
     "execution_count": 2,
     "metadata": {},
     "output_type": "execute_result"
    }
   ],
   "source": [
    "np.unique(marathon[:, 0])"
   ]
  },
  {
   "cell_type": "code",
   "execution_count": 3,
   "id": "0ecb93c7-af8f-47f5-9ac0-d24de998a3cd",
   "metadata": {},
   "outputs": [
    {
     "data": {
      "text/plain": [
       "array(['20', '30', '40', '50', '60'], dtype='<U2')"
      ]
     },
     "execution_count": 3,
     "metadata": {},
     "output_type": "execute_result"
    }
   ],
   "source": [
    "np.unique(marathon[:, 1])"
   ]
  },
  {
   "cell_type": "code",
   "execution_count": 7,
   "id": "31508ec3-4003-4f9c-89a2-457b7cbd5a86",
   "metadata": {},
   "outputs": [
    {
     "data": {
      "text/plain": [
       "((array(['F', 'M'], dtype='<U2'),\n",
       "  array(['20', '30', '40', '50', '60'], dtype='<U2')),\n",
       " array([[ 17,  23,   8,   1,   0],\n",
       "        [158, 433, 278,  73,   9]]))"
      ]
     },
     "execution_count": 7,
     "metadata": {},
     "output_type": "execute_result"
    }
   ],
   "source": [
    "import scipy.stats\n",
    "v = scipy.stats.contingency.crosstab(marathon[:, 0], marathon[:, 1])\n",
    "v"
   ]
  },
  {
   "cell_type": "code",
   "execution_count": 10,
   "id": "2a446d06-b4c1-4dfc-a336-f6ee99b504f8",
   "metadata": {},
   "outputs": [
    {
     "data": {
      "text/plain": [
       "array([[ 17,  23,   8,   1,   0],\n",
       "       [158, 433, 278,  73,   9]])"
      ]
     },
     "execution_count": 10,
     "metadata": {},
     "output_type": "execute_result"
    }
   ],
   "source": [
    "r[1]"
   ]
  },
  {
   "cell_type": "code",
   "execution_count": 11,
   "id": "8ba3b8ae-9d6d-4d7b-aef7-eaf7baa19d3e",
   "metadata": {},
   "outputs": [
    {
     "data": {
      "image/png": "[encoded data removed]",
      "text/plain": [
       "<Figure size 576x396 with 2 Axes>"
      ]
     },
     "metadata": {},
     "output_type": "display_data"
    }
   ],
   "source": [
    "import matplotlib.pyplot as plt\n",
    "import seaborn as sns\n",
    "plt.style.use(\"seaborn\")\n",
    "sns.heatmap(r[1], yticklabels=r[0][0], xticklabels = r[0][1], annot = True, fmt = 'd')\n",
    "plt.show()"
   ]
  },
  {
   "cell_type": "code",
   "execution_count": 39,
   "id": "799c9493-f51f-466a-96ac-b41231e9d50a",
   "metadata": {},
   "outputs": [
    {
     "data": {
      "text/plain": [
       "[]"
      ]
     },
     "execution_count": 39,
     "metadata": {},
     "output_type": "execute_result"
    },
    {
     "data": {
      "image/png": "[encoded data removed]",
      "text/plain": [
       "<Figure size 576x396 with 1 Axes>"
      ]
     },
     "metadata": {},
     "output_type": "display_data"
    }
   ],
   "source": [
    "ind = np.arange(r[1].shape[1])\n",
    "plt.bar(ind- 0.25, height = r[1][0,:], width = 0.4,label =r[0][0][0])\n",
    "plt.bar(ind+ 0.25, height = r[1][1,:], width = 0.4,label =r[0][0][1])\n",
    "plt.legend()\n",
    "plt.xticks(ind, r[0][1])\n",
    "plt.plot()"
   ]
  }
 ],
 "metadata": {
  "kernelspec": {
   "display_name": "Python 3 (ipykernel)",
   "language": "python",
   "name": "python3"
  },
  "language_info": {
   "codemirror_mode": {
    "name": "ipython",
    "version": 3
   },
   "file_extension": ".py",
   "mimetype": "text/x-python",
   "name": "python",
   "nbconvert_exporter": "python",
   "pygments_lexer": "ipython3",
   "version": "3.9.12"
  }
 },
 "nbformat": 4,
 "nbformat_minor": 5
}
