{
 "cells": [
  {
   "cell_type": "markdown",
   "id": "ee9d9ce1-7e08-4681-bee0-c16d579ebeb9",
   "metadata": {},
   "source": [
    "### Various types of Markdown types"
   ]
  },
  {
   "cell_type": "markdown",
   "id": "05b4e0d0-b051-4de7-bcb5-c000c14f6bb4",
   "metadata": {},
   "source": [
    "$X_i$"
   ]
  },
  {
   "cell_type": "markdown",
   "id": "1cd16d41-5e61-4793-a2a8-abcb3885081a",
   "metadata": {},
   "source": [
    "$$X_i$$"
   ]
  },
  {
   "cell_type": "markdown",
   "id": "3b1c6de8-4087-42c5-a8c7-1abd7dce5c6d",
   "metadata": {},
   "source": [
    "```\n",
    "$X_i$\n",
    "$$X_i$$\n",
    "```"
   ]
  },
  {
   "cell_type": "markdown",
   "id": "6541563e-8fdf-42e2-88ee-dee5f165acb4",
   "metadata": {},
   "source": [
    "$\\boldsymbol{x}= (x_1, x_2, \\dots, x_n) $\n",
    "\n",
    "$x_i$ -- x_i is the first element and x_n is the last"
   ]
  },
  {
   "cell_type": "markdown",
   "id": "5f917cec-2fa5-4370-a670-377ece0b1c89",
   "metadata": {},
   "source": [
    "$x_i$ -- x_i is the first element and x_n is the last"
   ]
  },
  {
   "cell_type": "markdown",
   "id": "fa56cfee-857b-4cb9-9ae3-dba955406c85",
   "metadata": {},
   "source": [
    "Let $\\boldsymbol {x} \\in \\mathbb{R}^n$"
   ]
  },
  {
   "cell_type": "markdown",
   "id": "a22c194d-c901-43d0-be6c-e32e05fd69de",
   "metadata": {},
   "source": [
    "$x_{(i)}$  -- the $i$-th smallest number"
   ]
  },
  {
   "cell_type": "markdown",
   "id": "356e3d3d-4188-4019-9458-564594bf9cbe",
   "metadata": {},
   "source": [
    "$X_{i:n}$"
   ]
  },
  {
   "cell_type": "markdown",
   "id": "a46fc51d-4e59-45db-b939-402188632bbe",
   "metadata": {},
   "source": [
    "AM: \n",
    " \n",
    "$$\\bar{x} =\\frac{\n",
    "    x_1+x_2+\\dots+x_n\n",
    "}{\n",
    "    n\n",
    "} = \\frac{1}{n} \\sum_{i=1}^n x_i\n",
    "$$"
   ]
  },
  {
   "cell_type": "markdown",
   "id": "834565fa-1208-45a2-ae8e-f447fa45dddf",
   "metadata": {},
   "source": [
    "measures of dispersion, inter quarantile range\n",
    "$$\\mathrm{IQR} = q_{0.75}-q_{0.25} = Q_3 - Q_1$$"
   ]
  },
  {
   "cell_type": "markdown",
   "id": "02330e31-4492-4e52-8040-51846afc955c",
   "metadata": {},
   "source": [
    "$$\n",
    "standard \\,deviation = \\sqrt{\\frac{1}{n-1} \\sum_{i=1}^{n} (x_i - \\bar{x})^2}\n",
    "$$\n"
   ]
  },
  {
   "cell_type": "markdown",
   "id": "86ef4382-b465-4e04-b8d6-642fd6652ee1",
   "metadata": {},
   "source": [
    "$$\n",
    "3. Q_1 = \\text{the value at the } \\frac{1}{4}(n+1) \\text{th position in the ordered data}\n",
    "$$"
   ]
  },
  {
   "cell_type": "markdown",
   "id": "8e4cbdc8-ba3e-4063-be91-7ee4926aea4f",
   "metadata": {},
   "source": [
    "Z = \\frac{X - \\mu}{\\sigma}\n",
    "Z = \\frac{X - \\mu}{\\sigma}\n",
    "$$\n",
    "\\text{Median} = \n",
    "\\begin{cases} \n",
    "x_{\\frac{n+1}{2}} & \\text{if } n \\text{ is odd} \\\\\n",
    "\\frac{x_{\\frac{n}{2}} + x_{\\frac{n}{2} + 1}}{2} & \\text{if } n \\text{ is even}\n",
    "\\end{cases}\n",
    "$$\n"
   ]
  },
  {
   "cell_type": "markdown",
   "id": "9b59fa15-8051-48e1-a5f8-fc2b4a10653b",
   "metadata": {},
   "source": [
    "Z score\n",
    "$$Z = \\frac{x - \\mu}{\\sigma}$$"
   ]
  }
 ],
 "metadata": {
  "kernelspec": {
   "display_name": "Python 3 (ipykernel)",
   "language": "python",
   "name": "python3"
  },
  "language_info": {
   "codemirror_mode": {
    "name": "ipython",
    "version": 3
   },
   "file_extension": ".py",
   "mimetype": "text/x-python",
   "name": "python",
   "nbconvert_exporter": "python",
   "pygments_lexer": "ipython3",
   "version": "3.9.12"
  }
 },
 "nbformat": 4,
 "nbformat_minor": 5
}
